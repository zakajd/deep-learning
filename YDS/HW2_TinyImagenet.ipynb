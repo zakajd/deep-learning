{
 "cells": [
  {
   "cell_type": "markdown",
   "metadata": {
    "colab_type": "text",
    "id": "PZt1xgxo22Cr"
   },
   "source": [
    "# Homework 2.2: The Quest For A Better Network\n",
    "\n",
    "In this assignment you will build a monster network to solve Tiny ImageNet image classification.\n",
    "\n",
    "This notebook is intended as a sequel to seminar 3, please give it a try if you haven't done so yet."
   ]
  },
  {
   "cell_type": "markdown",
   "metadata": {
    "colab_type": "text",
    "id": "YuXfa1dQ22Ct"
   },
   "source": [
    "(please read it at least diagonally)\n",
    "\n",
    "* The ultimate quest is to create a network that has as high __accuracy__ as you can push it.\n",
    "* There is a __mini-report__ at the end that you will have to fill in. We recommend reading it first and filling it while you iterate.\n",
    " \n",
    "## Grading\n",
    "* starting at zero points\n",
    "* +20% for describing your iteration path in a report below.\n",
    "* +20% for building a network that gets above 20% accuracy\n",
    "* +10% for beating each of these milestones on __TEST__ dataset:\n",
    "    * 25% (50% points)\n",
    "    * 30% (60% points)\n",
    "    * 32.5% (70% points)\n",
    "    * 35% (80% points)\n",
    "    * 37.5% (90% points)\n",
    "    * 40% (full points)\n",
    "    \n",
    "## Restrictions\n",
    "* Please do NOT use pre-trained networks for this assignment until you reach 40%.\n",
    " * In other words, base milestones must be beaten without pre-trained nets (and such net must be present in the anytask atttachments). After that, you can use whatever you want.\n",
    "* you __can't__ do anything with validation data apart from running the evaluation procedure. Please, split train images on train and validation parts\n",
    "\n",
    "## Tips on what can be done:\n",
    "\n",
    "\n",
    " * __Network size__\n",
    "   * MOAR neurons, \n",
    "   * MOAR layers, ([torch.nn docs](http://pytorch.org/docs/master/nn.html))\n",
    "\n",
    "   * Nonlinearities in the hidden layers\n",
    "     * tanh, relu, leaky relu, etc\n",
    "   * Larger networks may take more epochs to train, so don't discard your net just because it could didn't beat the baseline in 5 epochs.\n",
    "\n",
    "   * Ph'nglui mglw'nafh Cthulhu R'lyeh wgah'nagl fhtagn!\n",
    "\n",
    "\n",
    "### The main rule of prototyping: one change at a time\n",
    "   * By now you probably have several ideas on what to change. By all means, try them out! But there's a catch: __never test several new things at once__.\n",
    "\n",
    "\n",
    "### Optimization\n",
    "   * Training for 100 epochs regardless of anything is probably a bad idea.\n",
    "   * Some networks converge over 5 epochs, others - over 500.\n",
    "   * Way to go: stop when validation score is 10 iterations past maximum\n",
    "   * You should certainly use adaptive optimizers\n",
    "     * rmsprop, nesterov_momentum, adam, adagrad and so on.\n",
    "     * Converge faster and sometimes reach better optima\n",
    "     * It might make sense to tweak learning rate/momentum, other learning parameters, batch size and number of epochs\n",
    "   * __BatchNormalization__ (nn.BatchNorm2d) for the win!\n",
    "     * Sometimes more batch normalization is better.\n",
    "   * __Regularize__ to prevent overfitting\n",
    "     * Add some L2 weight norm to the loss function, PyTorch will do the rest\n",
    "       * Can be done manually or like [this](https://discuss.pytorch.org/t/simple-l2-regularization/139/2).\n",
    "     * Dropout (`nn.Dropout`) - to prevent overfitting\n",
    "       * Don't overdo it. Check if it actually makes your network better\n",
    "   \n",
    "### Convolution architectures\n",
    "   * This task __can__ be solved by a sequence of convolutions and poolings with batch_norm and ReLU seasoning, but you shouldn't necessarily stop there.\n",
    "   * [Inception family](https://hacktilldawn.com/2016/09/25/inception-modules-explained-and-implemented/), [ResNet family](https://towardsdatascience.com/an-overview-of-resnet-and-its-variants-5281e2f56035?gi=9018057983ca), [Densely-connected convolutions (exotic)](https://arxiv.org/abs/1608.06993), [Capsule networks (exotic)](https://arxiv.org/abs/1710.09829)\n",
    "   * Please do try a few simple architectures before you go for resnet-152.\n",
    "   * Warning! Training convolutional networks can take long without GPU. That's okay.\n",
    "     * If you are CPU-only, we still recomment that you try a simple convolutional architecture\n",
    "     * a perfect option is if you can set it up to run at nighttime and check it up at the morning.\n",
    "     * Make reasonable layer size estimates. A 128-neuron first convolution is likely an overkill.\n",
    "     * __To reduce computation__ time by a factor in exchange for some accuracy drop, try using __stride__ parameter. A stride=2 convolution should take roughly 1/4 of the default (stride=1) one.\n",
    " \n",
    "   \n",
    "### Data augmemntation\n",
    "   * getting 5x as large dataset for free is a great \n",
    "     * Zoom-in+slice = move\n",
    "     * Rotate+zoom(to remove black stripes)\n",
    "     * Add Noize (gaussian or bernoulli)\n",
    "   * Simple way to do that (if you have PIL/Image): \n",
    "     * ```from scipy.misc import imrotate,imresize```\n",
    "     * and a few slicing\n",
    "     * Other cool libraries: cv2, skimake, PIL/Pillow\n",
    "   * A more advanced way is to use torchvision transforms:\n",
    "    ```\n",
    "    transform_train = transforms.Compose([\n",
    "        transforms.RandomCrop(32, padding=4),\n",
    "        transforms.RandomHorizontalFlip(),\n",
    "        transforms.ToTensor(),\n",
    "        transforms.Normalize((0.4914, 0.4822, 0.4465), (0.2023, 0.1994, 0.2010)),\n",
    "    ])\n",
    "    trainset = torchvision.datasets.ImageFolder(root=path_to_tiny_imagenet, train=True, download=True, transform=transform_train)\n",
    "    trainloader = torch.utils.data.DataLoader(trainset, batch_size=128, shuffle=True, num_workers=2)\n",
    "\n",
    "    ```\n",
    "   * Or use this tool from Keras (requires theano/tensorflow): [tutorial](https://blog.keras.io/building-powerful-image-classification-models-using-very-little-data.html), [docs](https://keras.io/preprocessing/image/)\n",
    "   * Stay realistic. There's usually no point in flipping dogs upside down as that is not the way you usually see them.\n",
    "   \n"
   ]
  },
  {
   "cell_type": "markdown",
   "metadata": {
    "colab_type": "text",
    "id": "cAPH7hqL22Cu"
   },
   "source": [
    "## Introduction"
   ]
  },
  {
   "cell_type": "markdown",
   "metadata": {
    "colab_type": "text",
    "id": "tQ84k0zw5Zkn"
   },
   "source": [
    "### Imports"
   ]
  },
  {
   "cell_type": "code",
   "execution_count": null,
   "metadata": {
    "colab": {
     "base_uri": "https://localhost:8080/",
     "height": 275
    },
    "colab_type": "code",
    "executionInfo": {
     "elapsed": 63228,
     "status": "ok",
     "timestamp": 1557922241909,
     "user": {
      "displayName": "Джамиль Закиров",
      "photoUrl": "https://lh5.googleusercontent.com/-IV5sx_HR8LI/AAAAAAAAAAI/AAAAAAAAAQs/9yb2itRQNcI/s64/photo.jpg",
      "userId": "15164362533860163844"
     },
     "user_tz": -180
    },
    "id": "wpUKxgKFWG2n",
    "outputId": "39e06cf6-8735-4711-95ef-19e5d86846e0"
   },
   "outputs": [
    {
     "name": "stdout",
     "output_type": "stream",
     "text": [
      "Collecting torch==1.1.0\n",
      "\u001b[?25l  Downloading https://files.pythonhosted.org/packages/69/60/f685fb2cfb3088736bafbc9bdbb455327bdc8906b606da9c9a81bae1c81e/torch-1.1.0-cp36-cp36m-manylinux1_x86_64.whl (676.9MB)\n",
      "\u001b[K     |████████████████████████████████| 676.9MB 19kB/s \n",
      "\u001b[?25hRequirement already satisfied, skipping upgrade: numpy in /usr/local/lib/python3.6/dist-packages (from torch==1.1.0) (1.16.3)\n",
      "Installing collected packages: torch\n",
      "  Found existing installation: torch 1.0.1\n",
      "    Uninstalling torch-1.0.1:\n",
      "      Successfully uninstalled torch-1.0.1\n",
      "Successfully installed torch-1.1.0\n"
     ]
    },
    {
     "data": {
      "application/vnd.colab-display-data+json": {
       "pip_warning": {
        "packages": [
         "torch"
        ]
       }
      }
     },
     "metadata": {
      "tags": []
     },
     "output_type": "display_data"
    }
   ],
   "source": [
    "# !pip install --upgrade torch==1.0.1\n",
    "# !pip install --upgrade torch==1.1.0\n"
   ]
  },
  {
   "cell_type": "code",
   "execution_count": 3,
   "metadata": {
    "colab": {
     "base_uri": "https://localhost:8080/",
     "height": 156
    },
    "colab_type": "code",
    "executionInfo": {
     "elapsed": 25354,
     "status": "ok",
     "timestamp": 1557943240731,
     "user": {
      "displayName": "Джамиль Закиров",
      "photoUrl": "https://lh5.googleusercontent.com/-IV5sx_HR8LI/AAAAAAAAAAI/AAAAAAAAAQs/9yb2itRQNcI/s64/photo.jpg",
      "userId": "15164362533860163844"
     },
     "user_tz": -180
    },
    "id": "ob6L-13N22Cv",
    "outputId": "91001b7a-f8cc-4ee8-e284-1bcfb0d982b6"
   },
   "outputs": [
    {
     "name": "stdout",
     "output_type": "stream",
     "text": [
      "Go to this URL in a browser: https://accounts.google.com/o/oauth2/auth?client_id=947318989803-6bn6qk8qdgf4n4g3pfee6491hc0brc4i.apps.googleusercontent.com&redirect_uri=urn%3Aietf%3Awg%3Aoauth%3A2.0%3Aoob&scope=email%20https%3A%2F%2Fwww.googleapis.com%2Fauth%2Fdocs.test%20https%3A%2F%2Fwww.googleapis.com%2Fauth%2Fdrive%20https%3A%2F%2Fwww.googleapis.com%2Fauth%2Fdrive.photos.readonly%20https%3A%2F%2Fwww.googleapis.com%2Fauth%2Fpeopleapi.readonly&response_type=code\n",
      "\n",
      "Enter your authorization code:\n",
      "··········\n",
      "Mounted at /content/gdrive\n",
      "NumPy version: \t\t1.16.3\n",
      "PyTorch version: \t1.1.0\n"
     ]
    }
   ],
   "source": [
    "import matplotlib.pyplot as plt # 2D plots\n",
    "%matplotlib inline\n",
    "import numpy as np\n",
    "import sklearn\n",
    "\n",
    "import torch\n",
    "import torch.nn as nn\n",
    "import torch.nn.functional as F\n",
    "\n",
    "import torchvision\n",
    "import torchvision.models as models\n",
    "from torchvision import datasets\n",
    "from torchvision.transforms import transforms\n",
    "\n",
    "from torchsummary import summary\n",
    "\n",
    "from IPython.display import clear_output\n",
    "from IPython.core.debugger import set_trace # only for debugging\n",
    "import itertools # plot_conf_mx\n",
    "from itertools import chain # Used in test_model()\n",
    "import time, sys\n",
    "from tqdm import tqdm_notebook as tqdm # Interactive loops\n",
    "\n",
    "device = torch.device(\"cuda\") if torch.cuda.is_available() else torch.device(\"cpu\")\n",
    "\n",
    "# if you're running in google colab\n",
    "# 1. Comment this\n",
    "# %reload_ext autoreload\n",
    "# # reload modules before executing each line\n",
    "# %autoreload 2\n",
    "\n",
    "# 2. Uncomment this\n",
    "from google.colab import drive\n",
    "drive.mount('/content/gdrive', force_remount=True)\n",
    "\n",
    "\n",
    "print('NumPy version: \\t\\t%s' % np.__version__)\n",
    "print('PyTorch version: \\t%s' % torch.__version__)\n",
    "\n",
    "import warnings # Disable annoying messages\n",
    "warnings.filterwarnings('ignore')\n",
    "\n"
   ]
  },
  {
   "cell_type": "markdown",
   "metadata": {
    "colab_type": "text",
    "id": "XsK2PG2g5hls"
   },
   "source": [
    "### Constants"
   ]
  },
  {
   "cell_type": "code",
   "execution_count": null,
   "metadata": {
    "colab": {},
    "colab_type": "code",
    "id": "3ZELHGlMbHvB"
   },
   "outputs": [],
   "source": [
    "### Let's have a cell with global hyperparameters for the CNNs in this notebook\n",
    "# If true, save model parameters to GDrive\n",
    "COLAB = True\n",
    "\n",
    "# Path to a directory with image dataset and subfolders for training, validation and final testing\n",
    "if COLAB:\n",
    "    ROOT_DIR = \"/content/gdrive/My Drive/Colab Notebooks/\"\n",
    "else:\n",
    "    ROOT_DIR = r'../'\n",
    "DATA_PATH = ROOT_DIR + \"data/\" # PATH TO THE DATASET\n",
    "MODELS_PATH = ROOT_DIR + \"models/\" # PATH TO FOLDER w\\ pre-trained models weights\n",
    "\n",
    "# Number of threads for data loader\n",
    "NUM_WORKERS = 4\n",
    "\n",
    "# % of train dataset used for validation\n",
    "ratio = 0.2\n",
    "\n",
    "# Image size: even though image sizes are bigger than 96, we use this to speed up training\n",
    "SIZE_H = SIZE_W = 64\n",
    "\n",
    "# Epochs: number of passes over the training data\n",
    "EPOCH_NUM = 30\n",
    "\n",
    "# Batch size: for batch gradient descent optimization, usually selected as 2**K elements\n",
    "BATCH_SIZE = 128\n",
    "\n",
    "# Last layer (embeddings) size for CNN models\n",
    "EMBEDDING_SIZE = 512\n",
    "\n",
    "# Images mean and std channelwise. [0,1] -> [-1,1]\n",
    "image_mean = [0.4914, 0.4822, 0.4465] #\n",
    "image_std  = [0.2023, 0.1994, 0.2010] # \n",
    "# image_mean = [0.485, 0.456, 0.406] # ImageNet\n",
    "# image_std  = [0.229, 0.224, 0.225] # ImageNet\n",
    "\n",
    "# Number of classes in the dataset\n",
    "NUM_CLASSES = 200\n",
    "\n",
    "# Random seed for reproducible results\n",
    "SEED = 1244\n",
    "torch.manual_seed(SEED)\n",
    "np.random.seed(SEED)"
   ]
  },
  {
   "cell_type": "code",
   "execution_count": 5,
   "metadata": {
    "colab": {
     "base_uri": "https://localhost:8080/",
     "height": 68
    },
    "colab_type": "code",
    "executionInfo": {
     "elapsed": 854,
     "status": "ok",
     "timestamp": 1557943245574,
     "user": {
      "displayName": "Джамиль Закиров",
      "photoUrl": "https://lh5.googleusercontent.com/-IV5sx_HR8LI/AAAAAAAAAAI/AAAAAAAAAQs/9yb2itRQNcI/s64/photo.jpg",
      "userId": "15164362533860163844"
     },
     "user_tz": -180
    },
    "id": "bKeBpThs4n7H",
    "outputId": "81d388d1-294f-4f0a-abfe-094806e5ef38"
   },
   "outputs": [
    {
     "name": "stdout",
     "output_type": "stream",
     "text": [
      "Root dir: /content/gdrive/My Drive/Colab Notebooks/ \n",
      "Data dir: /content/gdrive/My Drive/Colab Notebooks/data/ \n",
      "Models dir: /content/gdrive/My Drive/Colab Notebooks/models/\n"
     ]
    }
   ],
   "source": [
    "print('Root dir: {} \\nData dir: {} \\nModels dir: {}'.format(ROOT_DIR, DATA_PATH, MODELS_PATH))"
   ]
  },
  {
   "cell_type": "markdown",
   "metadata": {
    "colab_type": "text",
    "id": "J31mog4I5qnz"
   },
   "source": [
    "### Data preprocessing"
   ]
  },
  {
   "cell_type": "markdown",
   "metadata": {
    "colab_type": "text",
    "id": "3NrjLS4k5x2p"
   },
   "source": [
    "#### Loading data"
   ]
  },
  {
   "cell_type": "code",
   "execution_count": 6,
   "metadata": {
    "colab": {
     "base_uri": "https://localhost:8080/",
     "height": 221
    },
    "colab_type": "code",
    "executionInfo": {
     "elapsed": 50173,
     "status": "ok",
     "timestamp": 1557943297722,
     "user": {
      "displayName": "Джамиль Закиров",
      "photoUrl": "https://lh5.googleusercontent.com/-IV5sx_HR8LI/AAAAAAAAAAI/AAAAAAAAAQs/9yb2itRQNcI/s64/photo.jpg",
      "userId": "15164362533860163844"
     },
     "user_tz": -180
    },
    "id": "-0ow_o-i22C2",
    "outputId": "6d6c9250-9366-4421-a1ac-862dc065a9c8"
   },
   "outputs": [
    {
     "name": "stdout",
     "output_type": "stream",
     "text": [
      "--2019-05-15 18:00:48--  https://raw.githubusercontent.com/yandexdataschool/Practical_DL/spring2019/week03_convnets/tiny_img.py\n",
      "Resolving raw.githubusercontent.com (raw.githubusercontent.com)... 151.101.0.133, 151.101.64.133, 151.101.128.133, ...\n",
      "Connecting to raw.githubusercontent.com (raw.githubusercontent.com)|151.101.0.133|:443... connected.\n",
      "HTTP request sent, awaiting response... 200 OK\n",
      "Length: 3378 (3.3K) [text/plain]\n",
      "Saving to: ‘tiny_img.py’\n",
      "\n",
      "tiny_img.py         100%[===================>]   3.30K  --.-KB/s    in 0s      \n",
      "\n",
      "2019-05-15 18:00:49 (64.5 MB/s) - ‘tiny_img.py’ saved [3378/3378]\n",
      "\n",
      "/content/gdrive/My Drive/Colab Notebooks/data/tiny-imagenet-200.zip\n"
     ]
    }
   ],
   "source": [
    "# if you're running in colab,\n",
    "# 1. go to Runtime -> Change Runtimy Type -> GPU\n",
    "\n",
    "# 2. uncomment this:\n",
    "!wget https://raw.githubusercontent.com/yandexdataschool/Practical_DL/spring2019/week03_convnets/tiny_img.py -O tiny_img.py\n",
    "  \n",
    "# 3. comment this\n",
    "# sys.path.insert(0, DATA_PATH)\n",
    "\n",
    "from tiny_img import download_tinyImg200\n",
    "download_tinyImg200(DATA_PATH)"
   ]
  },
  {
   "cell_type": "markdown",
   "metadata": {
    "colab_type": "text",
    "id": "cHE2EWdJ6MkT"
   },
   "source": [
    "#### Data loaders"
   ]
  },
  {
   "cell_type": "code",
   "execution_count": null,
   "metadata": {
    "colab": {},
    "colab_type": "code",
    "id": "KFSTetIv6EB1"
   },
   "outputs": [],
   "source": [
    "## Use 'aug = True' to augment image data\n",
    "aug = True\n",
    "\n",
    "transform = transforms.Compose([\n",
    "                transforms.ToTensor(),\n",
    "                transforms.Normalize(mean=image_mean, std=image_std)\n",
    "])\n",
    "\n",
    "complex_transform = transforms.Compose([\n",
    "#     transforms.Pad(4),\n",
    "    transforms.RandomAffine(10, translate=(0.05,0.05), \n",
    "                            scale=(0.95,1.05)),\n",
    "    transforms.RandomCrop((SIZE_H, SIZE_W)),\n",
    "    transforms.RandomHorizontalFlip(),\n",
    "    transforms.ToTensor(),\n",
    "    transforms.Normalize(mean=image_mean, std=image_std)\n",
    "])\n",
    "\n",
    "# Use 100k examples for training and validation (and testing). There is also 10k images in tiny-imagenet-200/test folder.\n",
    "dataset = datasets.ImageFolder('tiny-imagenet-200/train', \n",
    "                               transform=complex_transform if aug else transform)\n",
    "\n",
    "train_size, val_size = len(dataset) - int(ratio * len(dataset)), int(ratio * len(dataset))\n",
    "train_dataset, val_dataset = torch.utils.data.random_split(dataset, [train_size , val_size])\n",
    "\n",
    "test_dataset, val_dataset = torch.utils.data.random_split(val_dataset, \n",
    "                                                          [val_size - val_size//2, val_size // 2])\n",
    "#Save some data for final TEST evaluation\n",
    "# test_dataset = torchvision.datasets.ImageFolder('tiny-imagenet-200/test', transform=transform)\n",
    "\n",
    "train_batch_gen = torch.utils.data.DataLoader(train_dataset, batch_size=BATCH_SIZE, \n",
    "                                              shuffle=True,  num_workers=NUM_WORKERS)\n",
    "val_batch_gen = torch.utils.data.DataLoader(val_dataset, batch_size=BATCH_SIZE, \n",
    "                                            shuffle=True, num_workers=NUM_WORKERS)\n",
    "test_batch_gen = torch.utils.data.DataLoader(test_dataset, batch_size=BATCH_SIZE, \n",
    "                                             shuffle=False,  num_workers=NUM_WORKERS)"
   ]
  },
  {
   "cell_type": "markdown",
   "metadata": {
    "colab_type": "text",
    "id": "aPoOJxux6GY2"
   },
   "source": [
    "Count mean and std for each channel. Should be done once for every new dataset"
   ]
  },
  {
   "cell_type": "code",
   "execution_count": null,
   "metadata": {
    "colab": {},
    "colab_type": "code",
    "id": "qpwdCecI22DN"
   },
   "outputs": [],
   "source": [
    "# # Count mean for each channel. Assume t.shape == (batch_size, channels, h, w)\n",
    "# image_mean = torch.stack([torch.mean(t, (0,2,3)) for t, c in train_batch_gen])\n",
    "# image_mean = torch.mean(image_mean, 0)\n",
    "\n",
    "# # Count std for each channel. Assume t.shape == (batch_size, channels, h, w)\n",
    "# image_std = torch.stack([torch.sqrt(\n",
    "#         torch.mean((t - torch.mean(t, (0,2,3), keepdim=True))**2, (0,2,3))) for t, c in train_batch_gen])\n",
    "# image_std = torch.mean(image_std, 0)\n",
    "# print(image_mean, image_std)"
   ]
  },
  {
   "cell_type": "markdown",
   "metadata": {
    "colab_type": "text",
    "id": "m7jbgr4MCDrJ"
   },
   "source": [
    "#### Sanity check"
   ]
  },
  {
   "cell_type": "code",
   "execution_count": 9,
   "metadata": {
    "colab": {
     "base_uri": "https://localhost:8080/",
     "height": 286
    },
    "colab_type": "code",
    "executionInfo": {
     "elapsed": 48794,
     "status": "ok",
     "timestamp": 1557943303585,
     "user": {
      "displayName": "Джамиль Закиров",
      "photoUrl": "https://lh5.googleusercontent.com/-IV5sx_HR8LI/AAAAAAAAAAI/AAAAAAAAAQs/9yb2itRQNcI/s64/photo.jpg",
      "userId": "15164362533860163844"
     },
     "user_tz": -180
    },
    "id": "kH5CQkxKBtSU",
    "outputId": "12eb602d-3550-4abd-f929-26367c07eef2"
   },
   "outputs": [
    {
     "name": "stdout",
     "output_type": "stream",
     "text": [
      "80000 10000 10000\n"
     ]
    },
    {
     "data": {
      "image/png": "[encoded data removed]",
      "text/plain": [
       "<Figure size 432x288 with 1 Axes>"
      ]
     },
     "metadata": {
      "tags": []
     },
     "output_type": "display_data"
    }
   ],
   "source": [
    "print(len(train_batch_gen.dataset), len(val_batch_gen.dataset), len(test_batch_gen.dataset))\n",
    "\n",
    "# Check that classes are balanced\n",
    "import seaborn as sns\n",
    "g = sns.countplot(train_dataset.dataset.targets) #.numpy()"
   ]
  },
  {
   "cell_type": "code",
   "execution_count": null,
   "metadata": {
    "colab": {},
    "colab_type": "code",
    "id": "VROMbpnF22De"
   },
   "outputs": [],
   "source": [
    "def plot_from_batch_generator(batch_gen, grid_size=4, normalize=False):\n",
    "    \"\"\"\n",
    "    Plots :grid_size: images from :batch_gen:\n",
    "    If :normalize: = True uses precomputed mean and std\n",
    "    \"\"\"\n",
    "    \n",
    "    # Get a batch of data\n",
    "    data_batch, label_batch = next(iter(train_batch_gen))\n",
    "    # Make a grid from batch\n",
    "    imgs = torch.reshape(data_batch[:grid_size * grid_size], (-1, 3, SIZE_H, SIZE_W))\n",
    "    grid = torchvision.utils.make_grid(imgs, nrow=grid_size)\n",
    " \n",
    "    # convert to numpy.ndarray and change axes order [C, H, W] -> [H, W, C]\n",
    "    grid_ndarray = np.transpose(grid.numpy(), [1, 2, 0])\n",
    "\n",
    "   # inverse normalization for image data values back to [0,1] and clipping the values for correct pyplot.imshow()     \n",
    "    if normalize:\n",
    "      src = np.clip(image_std * grid_ndarray + image_mean, 0, 1)\n",
    "    else:\n",
    "      src = np.clip(grid_ndarray, 0, 1)\n",
    "    \n",
    "    plt.figure(figsize=(6,6))\n",
    "    plt.title(\"Training Images\")\n",
    "    plt.imshow(src)\n",
    "    plt.axis(\"off\")\n",
    "\n",
    "\n",
    "    \n",
    "#     class_names = batch_gen.dataset.classes\n",
    "#     title=['Label = %d (%s)' % (x, class_names[x]) for x in label_batch]\n",
    "\n",
    "#     if title is not None:\n",
    "#         plt.title(title)\n",
    "#     plt.pause(0.001)  # pause a bit so that plots are updated'\n",
    "\n"
   ]
  },
  {
   "cell_type": "code",
   "execution_count": 11,
   "metadata": {
    "colab": {
     "base_uri": "https://localhost:8080/",
     "height": 390
    },
    "colab_type": "code",
    "executionInfo": {
     "elapsed": 48152,
     "status": "ok",
     "timestamp": 1557943303590,
     "user": {
      "displayName": "Джамиль Закиров",
      "photoUrl": "https://lh5.googleusercontent.com/-IV5sx_HR8LI/AAAAAAAAAAI/AAAAAAAAAQs/9yb2itRQNcI/s64/photo.jpg",
      "userId": "15164362533860163844"
     },
     "user_tz": -180
    },
    "id": "1T8sExpQDQd-",
    "outputId": "032b9db3-dc45-40f0-dd32-e7ac2598c7bb"
   },
   "outputs": [
    {
     "data": {
      "image/png": "[encoded data removed]",
      "text/plain": [
       "<Figure size 432x432 with 1 Axes>"
      ]
     },
     "metadata": {
      "tags": []
     },
     "output_type": "display_data"
    }
   ],
   "source": [
    "# Let's take a look at our data\n",
    "plot_from_batch_generator(train_batch_gen, normalize=True)"
   ]
  },
  {
   "cell_type": "markdown",
   "metadata": {
    "colab_type": "text",
    "id": "a5JpsvveGPZ7"
   },
   "source": [
    "### Models"
   ]
  },
  {
   "cell_type": "code",
   "execution_count": null,
   "metadata": {
    "colab": {},
    "colab_type": "code",
    "id": "UovwsZZahxTg"
   },
   "outputs": [],
   "source": [
    "# a special module that converts [batch, channel, w, h] to [batch, units]\n",
    "class Flatten(nn.Module):\n",
    "    def forward(self, input):\n",
    "        return input.view(input.size(0), -1)\n",
    "\n",
    "      \n",
    "def weights_init(m):\n",
    "    \"\"\"kaiming_normal\n",
    "    usage: model.apply(weights_init)\"\"\"\n",
    "    if isinstance(m, nn.Conv2d):\n",
    "        torch.nn.init.kaiming_normal_(m.weight, a=0.01, nonlinearity='leaky_relu')\n",
    "        torch.nn.init.zeros_(m.bias)"
   ]
  },
  {
   "cell_type": "markdown",
   "metadata": {
    "colab_type": "text",
    "id": "3yXnKHIsuctM"
   },
   "source": [
    "#### Dense and CNN net\n",
    "Used as a baseline"
   ]
  },
  {
   "cell_type": "code",
   "execution_count": null,
   "metadata": {
    "colab": {},
    "colab_type": "code",
    "id": "Sy-fmdAEGMrt"
   },
   "outputs": [],
   "source": [
    "class BaselineDenseNet(nn.Module):\n",
    "    \n",
    "    def __init__(self):\n",
    "        super(BaselineDenseNet, self).__init__()\n",
    "        \n",
    "        # One way to define network - set a bunch of layers using nn.Sequential\n",
    "        self.model = nn.Sequential()\n",
    "\n",
    "        # reshape from \"images\" to flat vectors\n",
    "        self.model.add_module('flatten', Flatten())\n",
    "\n",
    "        # dense \"head\"\n",
    "        self.model.add_module('linear1', nn.Linear(3 * 64 * 64, 1024))\n",
    "        self.model.add_module('linear2', nn.Linear(1024, 512))\n",
    "        self.model.add_module('dropout0', nn.Dropout(0.05)) \n",
    "        self.model.add_module('linear3', nn.Linear(512, 256))\n",
    "        self.model.add_module('dropout1', nn.Dropout(0.05))\n",
    "        self.model.add_module('linear4', nn.Linear(256, 64))\n",
    "        self.model.add_module('dropout2', nn.Dropout(0.05))\n",
    "        self.model.add_module('dense1_relu', nn.ReLU())\n",
    "        self.model.add_module('dense2_logits', nn.Linear(64, 200)) # logits for 200 classes\n",
    "\n",
    "        \n",
    "    def forward(self, x):\n",
    "        x = self.model(x)\n",
    "        return x"
   ]
  },
  {
   "cell_type": "code",
   "execution_count": null,
   "metadata": {
    "colab": {},
    "colab_type": "code",
    "id": "sOzNI-7pjpOv"
   },
   "outputs": [],
   "source": [
    "class LeNet(nn.Module):\n",
    "    \"\"\"\n",
    "    The simplest CNN arcitecture from Yan LeCun (except ReLU and BatchNorm)\n",
    "    \"\"\"\n",
    "    \n",
    "    def __init__(self):\n",
    "        super(LeNet, self).__init__()\n",
    "        \n",
    "        # Another way is to define all modules inside nn.Sequential\n",
    "        # _ x 3 x 64 x 64\n",
    "        self.model = nn.Sequential(\n",
    "            nn.Conv2d(3, 32, 3, padding=1),\n",
    "            nn.BatchNorm2d(32),\n",
    "            # _ x 32 x 64 x 64\n",
    "            nn.ReLU(),\n",
    "            nn.MaxPool2d(2, stride=2),\n",
    "            # _ x 32 x 32 x 32\n",
    "            \n",
    "            nn.Conv2d(32, 64, 3, padding=1),\n",
    "            nn.BatchNorm2d(64),\n",
    "            # _ x 64 x 32 x 32\n",
    "            nn.ReLU(),\n",
    "            nn.MaxPool2d(2, stride=2),\n",
    "            # _ x 64 x 16 x 16\n",
    "            \n",
    "            nn.Conv2d(64, 128, 3, padding=1),\n",
    "            nn.BatchNorm2d(128),\n",
    "            # _ x 128 x 16 x 16\n",
    "            nn.ReLU(),\n",
    "            nn.MaxPool2d(2, stride=2)\n",
    "            # _ x 128 x 8 x 8            \n",
    "        )\n",
    "\n",
    "        self.fc = nn.Sequential(\n",
    "            # this converts our 3D feature maps to 1D feature vectors\n",
    "            Flatten(),\n",
    "            # _ x 128 * 8 * 8 \n",
    "            nn.Linear(128 * 8 * 8, EMBEDDING_SIZE),\n",
    "            nn.BatchNorm1d(EMBEDDING_SIZE),\n",
    "            # _ x EMBEDDING_SIZE\n",
    "            nn.ReLU(),\n",
    "            nn.Dropout(0.5),       \n",
    "        )\n",
    "\n",
    "        self.pred = nn.Sequential(\n",
    "            nn.Linear(EMBEDDING_SIZE, NUM_CLASSES),\n",
    "            # _ x NUM_CLASSES\n",
    "            nn.Sigmoid()\n",
    "        )\n",
    "\n",
    "        \n",
    "    def forward(self, x):\n",
    "        x = self.model(x)\n",
    "        x = self.fc(x)\n",
    "        x = self.pred(x)\n",
    "        return x"
   ]
  },
  {
   "cell_type": "code",
   "execution_count": null,
   "metadata": {
    "colab": {},
    "colab_type": "code",
    "id": "xDcRCf3RuoNZ"
   },
   "outputs": [],
   "source": [
    "class SimpleCNN(nn.Module):\n",
    "\n",
    "    def __init__(self):\n",
    "        super(SimpleCNN, self).__init__()\n",
    "\n",
    "        # Third way - describe layers and call them explicitly during `forward` pass\n",
    "       \n",
    "        self.conv1 = nn.Conv2d(3, 6, 5, padding=2)\n",
    "        self.conv2 = nn.Conv2d(6, 16, 5, padding=2)\n",
    "        \n",
    "        # \"flatten\" the data\n",
    "        self.flat = Flatten()\n",
    "        \n",
    "        # last fully-connected layer, used to create embedding vectors\n",
    "        self.fc1 = nn.Linear(128, EMBEDDING_SIZE)\n",
    "  \n",
    "        # logits for NUM_CLASSES=2 classes\n",
    "        self.fc_logits = nn.Linear(EMBEDDING_SIZE, NUM_CLASSES)\n",
    "\n",
    "    def forward(self, x):\n",
    "        # Max pooling over a (2, 2) window\n",
    "        x = F.max_pool2d(F.relu(self.conv1(x)), (2, 2))\n",
    "        # If the size is a square you can only specify a single number\n",
    "        x = F.max_pool2d(F.relu(self.conv2(x)), 2)\n",
    "        \n",
    "        # global average pooling\n",
    "        # 20 - oставшийся размер картинки, должно быть 128 каналов\n",
    "        x = F.avg_pool2d(F.relu(self.conv3(x)), 20)\n",
    "        x = self.flat(x)\n",
    "\n",
    "        x = F.relu(self.fc1(x))\n",
    "        x = F.sigmoid(self.fc_logits(x))\n",
    "        return x\n"
   ]
  },
  {
   "cell_type": "markdown",
   "metadata": {
    "colab_type": "text",
    "id": "uEHiIYpAuxG4"
   },
   "source": [
    "#### Better CNN's (Custom + ResNet)"
   ]
  },
  {
   "cell_type": "code",
   "execution_count": null,
   "metadata": {
    "colab": {},
    "colab_type": "code",
    "id": "0R-U8jTkG1It"
   },
   "outputs": [],
   "source": [
    "class GoodCNN(nn.Module):\n",
    "    # VGG like architecture\n",
    "    def __init__(self):\n",
    "        super(GoodCNN, self).__init__()\n",
    "        \n",
    "        activation = nn.LeakyReLU()\n",
    "        # _ x 3 x 64 x 64\n",
    "        model = nn.Sequential(\n",
    "            nn.Conv2d(3, 32, 3, padding=1),\n",
    "            # _ x 32 x 64 x 64\n",
    "            nn.BatchNorm2d(32),\n",
    "            activation,\n",
    "            nn.MaxPool2d(2, stride=2),\n",
    "            # _ x 32 x 32 x 32\n",
    "            nn.Dropout2d(0.3),\n",
    "            \n",
    "            nn.Conv2d(32, 64, 3, padding=1),\n",
    "            # _ x 64 x 32 x 32\n",
    "            nn.BatchNorm2d(64),\n",
    "            activation,\n",
    "            nn.MaxPool2d(2, stride=2),\n",
    "            # _ x 64 x 16 x 16\n",
    "            nn.Dropout2d(0.3),\n",
    "            \n",
    "            nn.Conv2d(64, 128, 3, padding=1),\n",
    "            # _ x 128 x 16 x 16\n",
    "            nn.BatchNorm2d(128),\n",
    "            activation,\n",
    "            nn.AvgPool2d(16)\n",
    "            # _ x 128 x 1 x 1     \n",
    "        )\n",
    "        \n",
    "        fc = nn.Sequential(\n",
    "            Flatten(),\n",
    "            # _ x 128\n",
    "            nn.Linear(128, EMBEDDING_SIZE),\n",
    "            nn.BatchNorm1d(EMBEDDING_SIZE),\n",
    "            activation,\n",
    "            nn.Dropout(0.3)\n",
    "        )\n",
    "        pred = nn.Sequential(\n",
    "            nn.Linear(EMBEDDING_SIZE, NUM_CLASSES),\n",
    "            nn.LogSoftmax(dim=1)\n",
    "        )\n",
    "        \n",
    "        self.main = nn.Sequential(model, fc, pred)\n",
    "\n",
    "\n",
    "    def forward(self, input):\n",
    "        output = self.main(input)\n",
    "        return output\n"
   ]
  },
  {
   "cell_type": "code",
   "execution_count": null,
   "metadata": {
    "colab": {},
    "colab_type": "code",
    "id": "-OCqGg9cwQXY"
   },
   "outputs": [],
   "source": [
    "# Torch implementation of ResNet https://arxiv.org/abs/1512.03385\n",
    "DOWNSAMPLE_COEF =2 \n",
    "def x_downsample(in_channels):\n",
    "     return nn.Conv2d(in_channels, \n",
    "                      in_channels * DOWNSAMPLE_COEF,\n",
    "                      kernel_size=1,\n",
    "                      stride=DOWNSAMPLE_COEF,\n",
    "                      bias=False)\n",
    "\n",
    "class ResidualBlock(nn.Module):\n",
    "    \"\"\"\n",
    "    Base building block for ResNet convolutions.\n",
    "    :downsample: increase number of in_channels by DOWNSAMPLE_COEF\n",
    "    :skip_connection: add block input to block output. False == no `residual` part\n",
    "    Input size [B x in_cnannels x H x W]\n",
    "    Output size if downsample: \n",
    "                    [B x in_channels * DOWNSAMPLE_COEF x H // 2 x W // 2]\n",
    "                else:\n",
    "                    [B x in_channels x H x W]\n",
    "    \n",
    "    \"\"\"\n",
    "    DOWNSAMPLE_COEF = 2\n",
    "    \n",
    "    def __init__(self, in_channels, downsample=False, skip_connection=True):\n",
    "        super(ResidualBlock, self).__init__()\n",
    "        \n",
    "        self.skip_connection = skip_connection\n",
    "        self.downsample = downsample\n",
    "        coef = DOWNSAMPLE_COEF if downsample else 1\n",
    "        out_channels = in_channels * coef\n",
    "        \n",
    "        if downsample and skip_connection:\n",
    "            #downsample shortcut branch if needed\n",
    "            self.short_conv = x_downsample(in_channels) \n",
    " \n",
    "        self.block = nn.Sequential(\n",
    "            # stride=2 if downsample else 1\n",
    "            #conv3x3\n",
    "            nn.Conv2d(in_channels, out_channels, \n",
    "                      stride=coef,\n",
    "                      kernel_size=3, \n",
    "                      padding=1, \n",
    "                      bias=False),            \n",
    "            nn.BatchNorm2d(out_channels),\n",
    "            nn.ReLU(),\n",
    "            nn.Conv2d(out_channels, out_channels, \n",
    "                      kernel_size=3, \n",
    "                      padding=1, \n",
    "                      bias=False),   \n",
    "            nn.BatchNorm2d(out_channels)\n",
    "        )\n",
    "            \n",
    "    def forward(self, x):\n",
    "        ### forward блок с учетом флагов downsample и skip_connection\n",
    "        skip = x\n",
    "        out = self.block(x)\n",
    "        \n",
    "        if self.skip_connection:\n",
    "            if self.downsample:\n",
    "                skip = self.short_conv(skip)\n",
    "            out = torch.add(out, skip)\n",
    "        out = nn.ReLU()(out)\n",
    "        \n",
    "        return out\n",
    "\n",
    "# doesn't work =(\n",
    "class ResidualBottleneckBlock(nn.Module):\n",
    "    \"\"\"\n",
    "    Decrease in_channels by BOTTLENECK_COEF, then convolve and\n",
    "    increase again.\n",
    "    :downsample: increase number of in_channels by DOWNSAMPLE_COEF\n",
    "    :skip_connection: add block input to block output. False == no `residual` part\n",
    "    Input size [B x in_cnannels x H x W]\n",
    "    Output size if downsample: \n",
    "                    [B x in_channels * DOWNSAMPLE_COEF x H // 2 x W // 2]\n",
    "                else:\n",
    "                    [B x in_channels x H x W]\n",
    "    \"\"\"\n",
    "    \n",
    "    DOWNSAMPLE_COEF = 2\n",
    "    BOTTLENECK_COEF = 4\n",
    "     \n",
    "    def __init__(self, in_channels, downsample=False, skip_connection=True):\n",
    "        super(ResidualBottleneckBlock, self).__init__()\n",
    "        \n",
    "        self.skip_connection = skip_connection\n",
    "        self.downsample = downsample\n",
    "        coef = DOWNSAMPLE_COEF if downsample else 1 \n",
    "        bneck_channels = in_channels * coef // self.BOTTLENECK_COEF\n",
    "        out_channels = in_channels * coef\n",
    "        \n",
    "        ### \n",
    "        \n",
    "        self.bottleneck = nn.Sequential(\n",
    "            nn.Conv2d(in_channels,\n",
    "                      bneck_channels, \n",
    "                      kernel_size=1, \n",
    "                      padding=1, # (0,0) \n",
    "                      bias=False),\n",
    "            \n",
    "            nn.BatchNorm2d(bneck_channels),\n",
    "            nn.ReLU(),\n",
    "            \n",
    "            nn.Conv2d(bneck_channels, bneck_channels, \n",
    "                      stride=coef,\n",
    "                      kernel_size=3, \n",
    "                      padding=1, \n",
    "                      bias=False), \n",
    "            nn.BatchNorm2d(bneck_channels),\n",
    "            nn.ReLU(),\n",
    "            \n",
    "            nn.Conv2d(bneck_channels, \n",
    "                      out_channels,\n",
    "                      kernel_size=1, \n",
    "                      bias=False),\n",
    "            nn.BatchNorm2d(out_channels)\n",
    "        )\n",
    "\n",
    "        if downsample and skip_connection:\n",
    "            #downsample shortcut branch if needed\n",
    "            self.short_conv = x_downsample(in_channels) \n",
    "\n",
    "            \n",
    "    def forward(self, x):\n",
    "        ###forward блок с учетом флагов downsample и skip_connection\n",
    "        skip = x\n",
    "        \n",
    "        out = self.bottleneck(x)\n",
    "\n",
    "        if self.skip_connection:\n",
    "            if self.downsample:\n",
    "                skip = self.short_conv(skip)\n",
    "            out = torch.add(out, skip)\n",
    "        out = nn.ReLU()(out)\n",
    "\n",
    "        return out\n",
    "      \n",
    "class ResNet(nn.Module):\n",
    "    \n",
    "    def __init__(self):\n",
    "        super(ResNet, self).__init__()\n",
    "        \n",
    "        # _ x 3 x 64 x 64\n",
    "        self.model = nn.Sequential(\n",
    "            nn.Conv2d(3, 64, 3, padding=1),\n",
    "            # _ x 64 x 64 x 64\n",
    "            ResidualBlock(64),\n",
    "            ResidualBlock(64, downsample=True),\n",
    "            # _ x 128 x 32 x 32\n",
    "            \n",
    "            ResidualBlock(128),\n",
    "            ResidualBlock(128, downsample=True),\n",
    "            # _ x 256 x 16 x 16\n",
    "            \n",
    "            ResidualBlock(256),\n",
    "            ResidualBlock(256, downsample=True),\n",
    "            # _ x 512 x 8 x 8            \n",
    "            \n",
    "            ResidualBlock(512),\n",
    "            ResidualBlock(512,),\n",
    "            # _ x 512 x 8 x 8\n",
    "            \n",
    "            nn.AvgPool2d(8),\n",
    "            # _ x 512 x 1 x 1\n",
    "\n",
    "        )\n",
    "        \n",
    "        self.fc = nn.Sequential(\n",
    "            Flatten(),\n",
    "            # _ x 512\n",
    "            nn.Linear(512, EMBEDDING_SIZE * 2),\n",
    "            nn.BatchNorm1d(EMBEDDING_SIZE * 2),\n",
    "            nn.ReLU()\n",
    "        )\n",
    "        self.pred = nn.Sequential(\n",
    "            nn.Linear(EMBEDDING_SIZE * 2, NUM_CLASSES),\n",
    "            nn.Sigmoid()\n",
    "        )\n",
    "        \n",
    "    def forward(self, x):\n",
    "        x = self.model(x)\n",
    "        x = self.fc(x)\n",
    "        x = self.pred(x)\n",
    "       \n",
    "        return x"
   ]
  },
  {
   "cell_type": "code",
   "execution_count": null,
   "metadata": {},
   "outputs": [],
   "source": [
    "    def weight_init(self, _type='kaiming'):\n",
    "        if _type == 'kaiming':\n",
    "            for ms in self._modules:\n",
    "                kaiming_init(self._modules[ms].parameters())\n",
    "\n",
    "\n",
    "def xavier_init(ms):\n",
    "    for m in ms:\n",
    "        if isinstance(m, (nn.Linear, nn.Conv2d)):\n",
    "            nn.init.xavier_uniform(m.weight, gain=nn.init.calculate_gain('relu'))\n",
    "            if m.bias.data:\n",
    "                m.bias.data.zero_()\n",
    "        if isinstance(m, (nn.BatchNorm2d, nn.BatchNorm1d)):\n",
    "            m.weight.data.fill_(1)\n",
    "            if m.bias.data:\n",
    "                m.bias.data.zero_()\n",
    "\n",
    "\n",
    "def kaiming_init(ms):\n",
    "    for m in ms:\n",
    "        if isinstance(m, (nn.Linear, nn.Conv2d)):\n",
    "            nn.init.kaiming_uniform(m.weight, a=0, mode='fan_in')\n",
    "            if m.bias.data:\n",
    "                m.bias.data.zero_()\n",
    "        if isinstance(m, (nn.BatchNorm2d, nn.BatchNorm1d)):\n",
    "            m.weight.data.fill_(1)\n",
    "            if m.bias.data:\n",
    "                m.bias.data.zero_()"
   ]
  },
  {
   "cell_type": "markdown",
   "metadata": {
    "colab_type": "text",
    "id": "4JEtmwGZGoC0"
   },
   "source": [
    "#### Models check"
   ]
  },
  {
   "cell_type": "code",
   "execution_count": 18,
   "metadata": {
    "colab": {
     "base_uri": "https://localhost:8080/",
     "height": 1241
    },
    "colab_type": "code",
    "executionInfo": {
     "elapsed": 49665,
     "status": "ok",
     "timestamp": 1557943309661,
     "user": {
      "displayName": "Джамиль Закиров",
      "photoUrl": "https://lh5.googleusercontent.com/-IV5sx_HR8LI/AAAAAAAAAAI/AAAAAAAAAQs/9yb2itRQNcI/s64/photo.jpg",
      "userId": "15164362533860163844"
     },
     "user_tz": -180
    },
    "id": "U9dGTVg0GrzJ",
    "outputId": "cc69565a-63ad-4e2e-cbb7-4c929fc023c2"
   },
   "outputs": [
    {
     "name": "stdout",
     "output_type": "stream",
     "text": [
      "----------------------------------------------------------------\n",
      "        Layer (type)               Output Shape         Param #\n",
      "================================================================\n",
      "            Conv2d-1           [-1, 64, 64, 64]           1,792\n",
      "            Conv2d-2           [-1, 64, 64, 64]          36,864\n",
      "       BatchNorm2d-3           [-1, 64, 64, 64]             128\n",
      "              ReLU-4           [-1, 64, 64, 64]               0\n",
      "            Conv2d-5           [-1, 64, 64, 64]          36,864\n",
      "       BatchNorm2d-6           [-1, 64, 64, 64]             128\n",
      "     ResidualBlock-7           [-1, 64, 64, 64]               0\n",
      "            Conv2d-8          [-1, 128, 32, 32]          73,728\n",
      "       BatchNorm2d-9          [-1, 128, 32, 32]             256\n",
      "             ReLU-10          [-1, 128, 32, 32]               0\n",
      "           Conv2d-11          [-1, 128, 32, 32]         147,456\n",
      "      BatchNorm2d-12          [-1, 128, 32, 32]             256\n",
      "           Conv2d-13          [-1, 128, 32, 32]           8,192\n",
      "    ResidualBlock-14          [-1, 128, 32, 32]               0\n",
      "           Conv2d-15          [-1, 128, 32, 32]         147,456\n",
      "      BatchNorm2d-16          [-1, 128, 32, 32]             256\n",
      "             ReLU-17          [-1, 128, 32, 32]               0\n",
      "           Conv2d-18          [-1, 128, 32, 32]         147,456\n",
      "      BatchNorm2d-19          [-1, 128, 32, 32]             256\n",
      "    ResidualBlock-20          [-1, 128, 32, 32]               0\n",
      "           Conv2d-21          [-1, 256, 16, 16]         294,912\n",
      "      BatchNorm2d-22          [-1, 256, 16, 16]             512\n",
      "             ReLU-23          [-1, 256, 16, 16]               0\n",
      "           Conv2d-24          [-1, 256, 16, 16]         589,824\n",
      "      BatchNorm2d-25          [-1, 256, 16, 16]             512\n",
      "           Conv2d-26          [-1, 256, 16, 16]          32,768\n",
      "    ResidualBlock-27          [-1, 256, 16, 16]               0\n",
      "           Conv2d-28          [-1, 256, 16, 16]         589,824\n",
      "      BatchNorm2d-29          [-1, 256, 16, 16]             512\n",
      "             ReLU-30          [-1, 256, 16, 16]               0\n",
      "           Conv2d-31          [-1, 256, 16, 16]         589,824\n",
      "      BatchNorm2d-32          [-1, 256, 16, 16]             512\n",
      "    ResidualBlock-33          [-1, 256, 16, 16]               0\n",
      "           Conv2d-34            [-1, 512, 8, 8]       1,179,648\n",
      "      BatchNorm2d-35            [-1, 512, 8, 8]           1,024\n",
      "             ReLU-36            [-1, 512, 8, 8]               0\n",
      "           Conv2d-37            [-1, 512, 8, 8]       2,359,296\n",
      "      BatchNorm2d-38            [-1, 512, 8, 8]           1,024\n",
      "           Conv2d-39            [-1, 512, 8, 8]         131,072\n",
      "    ResidualBlock-40            [-1, 512, 8, 8]               0\n",
      "           Conv2d-41            [-1, 512, 8, 8]       2,359,296\n",
      "      BatchNorm2d-42            [-1, 512, 8, 8]           1,024\n",
      "             ReLU-43            [-1, 512, 8, 8]               0\n",
      "           Conv2d-44            [-1, 512, 8, 8]       2,359,296\n",
      "      BatchNorm2d-45            [-1, 512, 8, 8]           1,024\n",
      "    ResidualBlock-46            [-1, 512, 8, 8]               0\n",
      "           Conv2d-47            [-1, 512, 8, 8]       2,359,296\n",
      "      BatchNorm2d-48            [-1, 512, 8, 8]           1,024\n",
      "             ReLU-49            [-1, 512, 8, 8]               0\n",
      "           Conv2d-50            [-1, 512, 8, 8]       2,359,296\n",
      "      BatchNorm2d-51            [-1, 512, 8, 8]           1,024\n",
      "    ResidualBlock-52            [-1, 512, 8, 8]               0\n",
      "        AvgPool2d-53            [-1, 512, 1, 1]               0\n",
      "          Flatten-54                  [-1, 512]               0\n",
      "           Linear-55                 [-1, 1024]         525,312\n",
      "      BatchNorm1d-56                 [-1, 1024]           2,048\n",
      "             ReLU-57                 [-1, 1024]               0\n",
      "           Linear-58                  [-1, 200]         205,000\n",
      "          Sigmoid-59                  [-1, 200]               0\n",
      "================================================================\n",
      "Total params: 16,545,992\n",
      "Trainable params: 16,545,992\n",
      "Non-trainable params: 0\n",
      "----------------------------------------------------------------\n",
      "Input size (MB): 0.05\n",
      "Forward/backward pass size (MB): 38.28\n",
      "Params size (MB): 63.12\n",
      "Estimated Total Size (MB): 101.45\n",
      "----------------------------------------------------------------\n"
     ]
    }
   ],
   "source": [
    "# base_dence = BaselineDenseNet().to(device)\n",
    "# summary(base_dence, (3, SIZE_H, SIZE_W))\n",
    "\n",
    "# lenet = LeNet().to(device)\n",
    "# summary(lenet, (3, SIZE_H, SIZE_W))\n",
    "\n",
    "## simplecnn = SimpleCNN().to(device)\n",
    "## summary(simplecnn, (3, SIZE_H, SIZE_W))\n",
    "\n",
    "# goodcnn = GoodCNN().to(device)\n",
    "# summary(goodcnn, (3, SIZE_H, SIZE_W))\n",
    "\n",
    "resnet = ResNet().to(device)\n",
    "summary(resnet, (3, SIZE_H, SIZE_W))\n"
   ]
  },
  {
   "cell_type": "markdown",
   "metadata": {
    "colab_type": "text",
    "id": "yBAuHxzfIxRY"
   },
   "source": [
    "## Train/Test loops and useful functions"
   ]
  },
  {
   "cell_type": "markdown",
   "metadata": {
    "colab_type": "text",
    "id": "Gg4eibU3JjXw"
   },
   "source": [
    "#### Useful functions"
   ]
  },
  {
   "cell_type": "code",
   "execution_count": null,
   "metadata": {
    "colab": {},
    "colab_type": "code",
    "id": "kFcr-GirJpR8"
   },
   "outputs": [],
   "source": [
    "def lr_finder(model, train_batch_generator, opt, lr_start=1e-6, lr_end=1e1, beta=0.99, plot=True):\n",
    "    \"\"\"\n",
    "    Search for optimal learning rate and plot it's landscape\n",
    "    Used: docs.fast.ai/callbacks.one_cycle.html and\n",
    "          sgugger.github.io/the-1cycle-policy.html\n",
    "    Usage: _, _ = lr_finder(model, batch_gen, opt)\n",
    "\n",
    "    \"\"\"\n",
    "    loss_history, lr_history= [], []\n",
    "    i, avg_loss, best_loss = 0, 0., float('inf')\n",
    "    \n",
    "    criterion = nn.CrossEntropyLoss()\n",
    "    \n",
    "    # Number of iterations for one epoch\n",
    "    N = len(train_batch_generator)\n",
    "    # Evenly distribute lr samples on log scale\n",
    "    q = (lr_end / lr_start) ** (1/N)\n",
    "    lr = lr_start\n",
    "    \n",
    "    optimizer = opt\n",
    "    optimizer.param_groups[0]['lr'] = lr\n",
    "    \n",
    "    for (X_batch, y_batch) in tqdm(train_batch_generator, desc='Searching'):\n",
    "        i += 1\n",
    "        # move data to target device\n",
    "        X_batch, y_batch = X_batch.to(device), y_batch.to(device)\n",
    "        # compute loss, calc grads, perform optimizer step and zero the grads\n",
    "        predictions = model(X_batch)\n",
    "        loss = criterion(predictions, y_batch)\n",
    "        \n",
    "        #Smoothed loss\n",
    "        avg_loss = beta * avg_loss + (1-beta) * loss.data.item()\n",
    "        smoothed_loss = avg_loss / (1 - beta**i)\n",
    "        \n",
    "        #Stop if the loss is exploding\n",
    "        if i > 1 and smoothed_loss > 4 * best_loss:\n",
    "            return loss_history, lr_history, best_lr \n",
    "          \n",
    "        #Record the best loss\n",
    "        if smoothed_loss < best_loss or i==1:\n",
    "            best_loss = smoothed_loss\n",
    "            best_lr = lr\n",
    "            \n",
    "        #Store the values\n",
    "        loss_history.append(smoothed_loss)\n",
    "        lr_history.append(np.log10(lr))\n",
    "        \n",
    "        #Do optimizer step\n",
    "        loss.backward()    \n",
    "\n",
    "        optimizer.step()\n",
    "        # zero the parameter gradients\n",
    "        optimizer.zero_grad()\n",
    "        \n",
    "        #Update the lr for the next step\n",
    "        lr *= q\n",
    "        optimizer.param_groups[0]['lr'] = lr\n",
    "        \n",
    "    if plot:\n",
    "        fig, ax = plt.subplots(1,2)\n",
    "        ax[0].plot(lr_history,loss_history)\n",
    "        ax[0].set_xlabel('LR')\n",
    "        ax[0].set_ylabel('Loss')\n",
    "        \n",
    "        ax[1].plot([10 ** x for x in lr_history])\n",
    "        ax[1].set_xlabel('Iteration')\n",
    "        ax[1].set_ylabel('LR')\n",
    "        \n",
    "    return loss_history, lr_history, best_lr"
   ]
  },
  {
   "cell_type": "code",
   "execution_count": null,
   "metadata": {
    "colab": {},
    "colab_type": "code",
    "id": "zSIC29o-Js11"
   },
   "outputs": [],
   "source": [
    "def plot_confusion_matrix(cm, classes,\n",
    "                          normalize=False,\n",
    "                          title='Confusion matrix',\n",
    "                          cmap=plt.cm.Blues):\n",
    "    \"\"\"\n",
    "    This function prints and plots the confusion matrix.\n",
    "    Normalization can be applied by setting `normalize=True`.\n",
    "    \"\"\"\n",
    "    plt.imshow(cm, interpolation='nearest', cmap=cmap)\n",
    "    plt.title(title)\n",
    "    plt.colorbar()\n",
    "    tick_marks = np.arange(len(classes))\n",
    "    plt.xticks(tick_marks, classes, rotation=45)\n",
    "    plt.yticks(tick_marks, classes)\n",
    "\n",
    "    if normalize:\n",
    "        cm = cm.astype('float') / cm.sum(axis=1)[:, np.newaxis]\n",
    "\n",
    "    thresh = cm.max() / 2.\n",
    "    for i, j in itertools.product(range(cm.shape[0]), range(cm.shape[1])):\n",
    "        plt.text(j, i, cm[i, j],\n",
    "                 horizontalalignment=\"center\",\n",
    "                 color=\"white\" if cm[i, j] > thresh else \"black\")\n",
    "\n",
    "    plt.tight_layout()\n",
    "    plt.ylabel('True label')\n",
    "    plt.xlabel('Predicted label')"
   ]
  },
  {
   "cell_type": "code",
   "execution_count": null,
   "metadata": {
    "colab": {},
    "colab_type": "code",
    "id": "qFfLuUM_JxuH"
   },
   "outputs": [],
   "source": [
    "def plot_logs(logs):\n",
    "    \"\"\"Usage: plot_logs(custom_obj[0])\"\"\"\n",
    "    plt.subplot(1, 2, 1)\n",
    "    plt.plot(logs['epoch'], logs['val_loss'],'g-', label='validation')\n",
    "    plt.plot(logs['epoch'], logs['train_loss'], label = 'train')\n",
    "    plt.xlabel('Epoch #')\n",
    "    plt.ylabel('Loss')\n",
    "    plt.legend()\n",
    "\n",
    "    plt.subplot(1, 2, 2)\n",
    "    plt.plot(logs['epoch'], logs['val_accuracy'],'g-')\n",
    "    plt.xlabel('Epoch #')\n",
    "    plt.ylabel('Validation accuracy')\n",
    "\n",
    "def load_model(model, model_name):\n",
    "    \"\"\"Looks for given model_name in MODELS_PATH dir\"\"\"\n",
    "\n",
    "    # # Try to load previosly trained model first\n",
    "    try:\n",
    "        with open(MODELS_PATH + model_name, 'rb') as f: model = torch.load(f)\n",
    "        print(\"Loaded succesfully!\")\n",
    "    except (FileNotFoundError, ) as e:\n",
    "        print(\"Pre-trained model not found. Err msg: '{}' \".format(e.args[-1]))\n",
    "\n",
    "    model.to(device)\n",
    "    acc, _ = test_model(model, val_batch_gen, verbose=False, conf_mx=False)  \n",
    "    print(\"Model validation accuracy = {:.2f}%\".format(acc * 100))\n",
    "\n",
    "    #Print model for debugging\n",
    "#     summary(model, (1, SIZE_H, SIZE_W))\n",
    "\n",
    "    return model"
   ]
  },
  {
   "cell_type": "markdown",
   "metadata": {
    "colab_type": "text",
    "id": "LHSowFuuKB86"
   },
   "source": [
    "#### Train/ Test"
   ]
  },
  {
   "cell_type": "code",
   "execution_count": null,
   "metadata": {
    "colab": {},
    "colab_type": "code",
    "id": "R2FSmwqzFza_"
   },
   "outputs": [],
   "source": [
    "def train_model(model, train_batch_generator, val_batch_generator, \n",
    "                opt=None, scheduler=None, log_history=None, ckpt_name=None, n_epochs=EPOCH_NUM, \n",
    "                annealing=False, verbose=False):\n",
    "    \"\"\"Training function\n",
    "    opt: optimizer, default is SGD\n",
    "    log_history: to continuie trainig without losing history\n",
    "    ckpt_name: saves model to disk\n",
    "    \n",
    "    \"\"\"\n",
    "    if scheduler:\n",
    "        annealing=True\n",
    "        \n",
    "    if log_history:\n",
    "        logs = log_history\n",
    "        start_epoch = logs['epoch'][-1]\n",
    "    else:\n",
    "        logs = {'epoch': [], 'train_loss': [], 'val_loss': [],\n",
    "            'val_accuracy': [],'top_val_accuracy' : 0, 'lr': []}\n",
    "        start_epoch = 0\n",
    "      \n",
    "    \n",
    "    best_model = None\n",
    "    iteration = 0\n",
    "    top_val_accuracy = 0\n",
    "    \n",
    "    if opt:\n",
    "        optimizer=opt\n",
    "    else:\n",
    "        optimizer = torch.optim.SGD(model.parameters(), \n",
    "                                    lr=0.001, \n",
    "                                    weight_decay=0.0001, \n",
    "                                    momentum=0.9)\n",
    "    \n",
    "    model = model.to(device)\n",
    "    criterion = nn.CrossEntropyLoss()\n",
    "#     criterion = nn.NLLLoss(reduction='mean')\n",
    "\n",
    "    for epoch in range(n_epochs):\n",
    "        train_loss = []\n",
    "        val_loss = []\n",
    "        val_accuracy = []\n",
    "        start_time = time.time()\n",
    "        \n",
    "        \n",
    "        # TRAIN\n",
    "        model.train(True) # enable dropout / batch_norm training behavior\n",
    "        for (X_batch, y_batch) in tqdm(train_batch_generator, desc='Training'):\n",
    "            # move data to target device\n",
    "            assert len(X_batch) == len(y_batch)\n",
    "            X_batch, y_batch = X_batch.to(device), y_batch.to(device)\n",
    "            # zero the parameter gradients\n",
    "            optimizer.zero_grad()\n",
    "            # train on batch: compute loss, calc grads, perform optimizer step\n",
    "            predictions = model(X_batch)\n",
    "            loss = criterion(predictions, y_batch)\n",
    "            loss.backward()    \n",
    "            optimizer.step()\n",
    "            train_loss.append(loss.cpu().data.numpy())\n",
    "            \n",
    "\n",
    "        # TEST / VALIDATE\n",
    "        val_accuracy, val_loss = test_model(model, val_batch_generator, criterion=criterion)\n",
    "        if annealing: scheduler.step(val_loss)\n",
    "        \n",
    "           \n",
    "        clear_output(wait=True)\n",
    "        # print the results for this epoch:\n",
    "        print(\"Epoch {} of {} took {:.3f}s\".format(\n",
    "            epoch + 1, n_epochs, time.time() - start_time))\n",
    "        \n",
    "\n",
    "        train_loss_value = np.mean(train_loss)\n",
    "        val_accuracy_value = np.mean(val_accuracy) * 100\n",
    "        \n",
    "        print(\"  training loss (in-iteration): \\t{:.6f}\".format(train_loss_value))\n",
    "        print(\"  validation accuracy: \\t\\t\\t{:.2f} %\".format(val_accuracy_value))\n",
    "        \n",
    "        #Crutch to add parameter to the model\n",
    "#         model.register_buffer('val_accuracy', torch.Tensor([val_accuracy_value]))\n",
    "        \n",
    "        if val_accuracy_value > top_val_accuracy and ckpt_name is not None:\n",
    "            top_val_accuracy = val_accuracy_value\n",
    "            print('top val accuracy: %.3f' % top_val_accuracy)\n",
    "            #save checkpoint of the best model to disk\n",
    "            with open(MODELS_PATH + ckpt_name, 'wb') as f: torch.save(model, f)\n",
    "        \n",
    "        logs['epoch'].append(epoch + start_epoch)\n",
    "        logs['train_loss'].append(train_loss_value)\n",
    "        logs['val_loss'].append(val_loss)\n",
    "        logs['val_accuracy'].append(val_accuracy)\n",
    "        logs['lr'].append(optimizer.param_groups[0]['lr'])\n",
    "\n",
    "        \n",
    "        custom_objects = (logs, )\n",
    "        \n",
    "    # Load best model found during trainig\n",
    "    if ckpt_name is not None:\n",
    "        with open(MODELS_PATH + ckpt_name, 'rb') as f: best_model = torch.load(f)\n",
    " \n",
    "    return best_model, opt, custom_objects"
   ]
  },
  {
   "cell_type": "code",
   "execution_count": null,
   "metadata": {
    "colab": {},
    "colab_type": "code",
    "id": "mzDWEXlFPDVh"
   },
   "outputs": [],
   "source": [
    "def test_model(model, test_batch_generator, criterion=None, subset='test', \n",
    "               verbose=False, conf_mx=True, errors=False):\n",
    "    \"\"\"\n",
    "    Compute model performance on test/validation dataset\n",
    "    :criterion: used to compute loss\n",
    "    \"\"\"\n",
    "    model.train(False) # disable dropout / use averages for batch_norm\n",
    "    test_batch_acc, test_batch_loss = [], []\n",
    "    y_true, y_predicted = [], []\n",
    "    incorrect = [] # save all errors here\n",
    "    for X_batch, y_batch in test_batch_generator:\n",
    "        # move data to target device\n",
    "        X_batch, y_batch = X_batch.to(device), y_batch.to(device)\n",
    "        # compute logits\n",
    "        logits = model(X_batch)\n",
    "        # compute loss if needed\n",
    "        if criterion is not None:\n",
    "            loss = criterion(logits, y_batch)\n",
    "            test_batch_loss.append(loss.cpu().data.numpy())\n",
    "        \n",
    "        # get idx of the max element in a row. \n",
    "        y_pred = logits.max(1)[1].data\n",
    "        y_pred_confidence = logits.max(1)[0].data\n",
    "\n",
    "        test_batch_acc.append(np.mean( (y_batch.cpu() == y_pred.cpu()).numpy() ))\n",
    "        y_true.append(y_batch.cpu().numpy())\n",
    "        # save for classification_report\n",
    "        y_predicted.append(y_pred.cpu().numpy())\n",
    "\n",
    "    test_accuracy = np.mean(test_batch_acc)\n",
    "    test_loss = np.mean(test_batch_loss)\n",
    "        \n",
    "\n",
    "    if verbose:\n",
    "        print(\"Results:\")\n",
    "        print(\"  {} accuracy:\\t\\t{:.2f} %\\n\".format(subset, test_accuracy * 100))\n",
    "        \n",
    "\n",
    "        #get the predictions for the test data\n",
    "        y_true = list(chain.from_iterable(y_true))\n",
    "\n",
    "        y_predicted = list(chain.from_iterable(y_predicted))\n",
    "        print(sklearn.metrics.classification_report(y_true, y_predicted))\n",
    "                                                    \n",
    "\n",
    "        #get the indices to be plotted\n",
    "        incorrects = np.nonzero([x != y for x,y in zip(y_predicted, y_true)])[0] \n",
    "        \n",
    "        if errors:\n",
    "          plt.figure(figsize=(8,8))\n",
    "          for i, incorrect in enumerate(incorrects[0:9]):\n",
    "              plt.subplot(3,3,i+1)\n",
    "\n",
    "              plt.imshow(test_batch_generator.dataset.data[incorrect], cmap='gray')\n",
    "              plt.title(\"Pred: {}, Tr: {}\".format(labels[y_predicted[incorrect]], \n",
    "                                                          labels[y_true[incorrect]]))\n",
    "              plt.tight_layout()\n",
    "              plt.axis('off')\n",
    "        \n",
    "        if conf_mx:\n",
    "          # compute the confusion matrix\n",
    "          confusion_mtx = sklearn.metrics.confusion_matrix(y_true, y_predicted) \n",
    "          # plot the confusion matrix\n",
    "          plot_confusion_matrix(confusion_mtx, classes = labels) \n",
    "\n",
    "\n",
    "        if test_accuracy * 100 > 70:\n",
    "            print(\"U'r freakin' amazin'!\")\n",
    "        elif test_accuracy * 100 > 50:\n",
    "            print(\"Achievement unlocked: 110lvl Warlock!\")\n",
    "        elif test_accuracy * 100 > 40:\n",
    "            print(\"Achievement unlocked: 80lvl Warlock!\")\n",
    "        elif test_accuracy * 100 > 30:\n",
    "            print(\"Achievement unlocked: 70lvl Warlock!\")\n",
    "        elif test_accuracy * 100 > 20:\n",
    "            print(\"Achievement unlocked: 60lvl Warlock!\")\n",
    "        else:\n",
    "            print(\"We need more magic! Follow instructons below\")\n",
    "    return test_accuracy, test_loss"
   ]
  },
  {
   "cell_type": "markdown",
   "metadata": {
    "colab_type": "text",
    "id": "Sfj1rJgUKy7p"
   },
   "source": [
    "## Training"
   ]
  },
  {
   "cell_type": "markdown",
   "metadata": {
    "colab_type": "text",
    "id": "qCmPbf0NLARy"
   },
   "source": [
    "### Baseline model\n",
    "\n",
    "Simplest FC net possible. No data augmentation, no batchnorm, no dropout and SGD as optimizer without LR annealing"
   ]
  },
  {
   "cell_type": "code",
   "execution_count": null,
   "metadata": {
    "colab": {
     "base_uri": "https://localhost:8080/",
     "height": 351
    },
    "colab_type": "code",
    "executionInfo": {
     "elapsed": 719,
     "status": "ok",
     "timestamp": 1557918936913,
     "user": {
      "displayName": "Джамиль Закиров",
      "photoUrl": "https://lh5.googleusercontent.com/-IV5sx_HR8LI/AAAAAAAAAAI/AAAAAAAAAQs/9yb2itRQNcI/s64/photo.jpg",
      "userId": "15164362533860163844"
     },
     "user_tz": -180
    },
    "id": "tNih0VSEhtM3",
    "outputId": "600042ad-942d-464d-a19b-1458048380de"
   },
   "outputs": [
    {
     "name": "stdout",
     "output_type": "stream",
     "text": [
      "Epoch 10 of 10 took 36.098s\n",
      "  training loss (in-iteration): \t4.656632\n",
      "  validation accuracy: \t\t\t6.20 %\n",
      "top val accuracy: 6.201\n"
     ]
    },
    {
     "data": {
      "image/png": "[encoded data removed]",
      "text/plain": [
       "<Figure size 432x288 with 2 Axes>"
      ]
     },
     "metadata": {
      "tags": []
     },
     "output_type": "display_data"
    }
   ],
   "source": [
    "baseline = BaselineDenseNet()\n",
    "\n",
    "model = BaselineDenseNet()\n",
    "model_name = 'baseline_dense'\n",
    "\n",
    "# Load pre-trained models weights\n",
    "model = load_model(model, model_name)\n",
    "\n",
    "lr = 3e-4\n",
    "bm_baseline, optim, custom_obj = train_model(model, train_batch_gen, val_batch_gen, \n",
    "                                             ckpt_name=model_name, \n",
    "                                             n_epochs=10)\n",
    "plot_logs(custom_obj[0])"
   ]
  },
  {
   "cell_type": "code",
   "execution_count": null,
   "metadata": {
    "colab": {
     "base_uri": "https://localhost:8080/",
     "height": 85
    },
    "colab_type": "code",
    "executionInfo": {
     "elapsed": 4100,
     "status": "ok",
     "timestamp": 1557919545652,
     "user": {
      "displayName": "Джамиль Закиров",
      "photoUrl": "https://lh5.googleusercontent.com/-IV5sx_HR8LI/AAAAAAAAAAI/AAAAAAAAAQs/9yb2itRQNcI/s64/photo.jpg",
      "userId": "15164362533860163844"
     },
     "user_tz": -180
    },
    "id": "Qx2M3F0ahuF0",
    "outputId": "dd55cf60-d142-4aa0-9671-32456677c213"
   },
   "outputs": [
    {
     "name": "stdout",
     "output_type": "stream",
     "text": [
      "Results:\n",
      "  test accuracy:\t\t6.48 %\n",
      "\n"
     ]
    },
    {
     "data": {
      "text/plain": [
       "(0.0647745253164557, nan)"
      ]
     },
     "execution_count": 69,
     "metadata": {
      "tags": []
     },
     "output_type": "execute_result"
    }
   ],
   "source": [
    "# Fimal test\n",
    "test_model(bm_baseline, test_batch_gen, verbose=False, conf_mx=False)"
   ]
  },
  {
   "cell_type": "markdown",
   "metadata": {
    "colab_type": "text",
    "id": "y2lGQ9rdNBe3"
   },
   "source": [
    "### Good model\n",
    "**Don't forget to set `aug = True` and reload datasets.**\n",
    "\n",
    "Better achitecture with dropout between convolutions and some batchnormalization before activation layers. Adam optimizer used instead of SGD. Weight decay helps to regularize model during long training. Scheduler decreases LR to get closer to the optima."
   ]
  },
  {
   "cell_type": "code",
   "execution_count": null,
   "metadata": {
    "colab": {},
    "colab_type": "code",
    "id": "NZTBDNqalVKA"
   },
   "outputs": [],
   "source": [
    "model = GoodCNN()\n",
    "model_name = 'good_cnn'\n",
    "\n",
    "# Load pre-trained models weights\n",
    "model = load_model(model, model_name)\n",
    "\n",
    "# Initialuze Conv2 weights (or any other module)\n",
    "model.apply(weights_init)\n",
    "\n",
    "lr = 3e-4\n",
    "opt = torch.optim.Adam(model.parameters(), \n",
    "                       lr=lr, \n",
    "                       betas=(0.9, 0.999), \n",
    "                       eps=1e-08, \n",
    "                       weight_decay=1e-5) ## !!!\n",
    "\n",
    "scheduler = torch.optim.lr_scheduler.ReduceLROnPlateau(opt, factor=0.7, patience=5, ## !!!\n",
    "                                           min_lr=1e-5)\n",
    "\n",
    "bm_good, optim, custom_obj = train_model(model, train_batch_gen, val_batch_gen, opt,\n",
    "                                    scheduler=scheduler, ckpt_name=model_name, \n",
    "                                    n_epochs=10, verbose=False, annealing=True)\n",
    "plot_logs(custom_obj[0])"
   ]
  },
  {
   "cell_type": "code",
   "execution_count": null,
   "metadata": {
    "colab": {},
    "colab_type": "code",
    "id": "a-3ABeadlmOh"
   },
   "outputs": [],
   "source": [
    "# Test model\n",
    "test_model(bm_good, test_batch_gen, verbose=False, conf_mx=False)"
   ]
  },
  {
   "cell_type": "markdown",
   "metadata": {
    "colab_type": "text",
    "id": "acl0BVayOIcc"
   },
   "source": [
    "### ResNet-16\n",
    "Pure gold, made from scratch.\n",
    "Model which scores 42%+ accuracy if trained properly."
   ]
  },
  {
   "cell_type": "code",
   "execution_count": null,
   "metadata": {
    "colab": {
     "base_uri": "https://localhost:8080/",
     "height": 351
    },
    "colab_type": "code",
    "executionInfo": {
     "elapsed": 588,
     "status": "ok",
     "timestamp": 1557938170237,
     "user": {
      "displayName": "Джамиль Закиров",
      "photoUrl": "https://lh5.googleusercontent.com/-IV5sx_HR8LI/AAAAAAAAAAI/AAAAAAAAAQs/9yb2itRQNcI/s64/photo.jpg",
      "userId": "15164362533860163844"
     },
     "user_tz": -180
    },
    "id": "HcwIMcMIM2Wg",
    "outputId": "c1cb0b3c-1dda-42f2-9c7c-0c90cb14f91c"
   },
   "outputs": [
    {
     "name": "stdout",
     "output_type": "stream",
     "text": [
      "Epoch 50 of 50 took 282.820s\n",
      "  training loss (in-iteration): \t4.382333\n",
      "  validation accuracy: \t\t\t45.88 %\n",
      "top val accuracy: 45.876\n"
     ]
    },
    {
     "data": {
      "image/png": "[encoded data removed]",
      "text/plain": [
       "<Figure size 432x288 with 2 Axes>"
      ]
     },
     "metadata": {
      "tags": []
     },
     "output_type": "display_data"
    }
   ],
   "source": [
    "model = ResNet()\n",
    "model_name = 'res_net'\n",
    "\n",
    "\n",
    "# Load pre-trained models weights\n",
    "# model = load_model(model, model_name)\n",
    "\n",
    "lr = 3e-4\n",
    "opt = torch.optim.Adam(model.parameters(), \n",
    "                       lr=lr, \n",
    "                       betas=(0.9, 0.999), \n",
    "                       eps=1e-08, \n",
    "                       weight_decay=1e-5) ## !!!\n",
    "\n",
    "scheduler = torch.optim.lr_scheduler.ReduceLROnPlateau(opt, factor=0.7, patience=5, ## !!!\n",
    "                                           min_lr=1e-5)\n",
    "\n",
    "bm_resnet, optim, custom_obj = train_model(model, train_batch_gen, val_batch_gen, opt,\n",
    "                                    scheduler=scheduler, ckpt_name=model_name, \n",
    "                                    n_epochs=50, verbose=False, annealing=True)\n",
    "plot_logs(custom_obj[0])"
   ]
  },
  {
   "cell_type": "code",
   "execution_count": 37,
   "metadata": {
    "colab": {
     "base_uri": "https://localhost:8080/",
     "height": 51
    },
    "colab_type": "code",
    "executionInfo": {
     "elapsed": 12380,
     "status": "ok",
     "timestamp": 1557944924998,
     "user": {
      "displayName": "Джамиль Закиров",
      "photoUrl": "https://lh5.googleusercontent.com/-IV5sx_HR8LI/AAAAAAAAAAI/AAAAAAAAAQs/9yb2itRQNcI/s64/photo.jpg",
      "userId": "15164362533860163844"
     },
     "user_tz": -180
    },
    "id": "0zsfHmy0NFuy",
    "outputId": "5e5c9368-7b9e-4f1c-b529-8b18df397239"
   },
   "outputs": [
    {
     "name": "stdout",
     "output_type": "stream",
     "text": [
      "Loaded succesfully!\n"
     ]
    },
    {
     "data": {
      "text/plain": [
       "(0.5807950949367089, nan)"
      ]
     },
     "execution_count": 37,
     "metadata": {
      "tags": []
     },
     "output_type": "execute_result"
    }
   ],
   "source": [
    "# Test model\n",
    "model_name = 'res_net_43'\n",
    "\n",
    "try:\n",
    "    with open(MODELS_PATH + model_name, 'rb') as f: model = torch.load(f)\n",
    "    print(\"Loaded succesfully!\")\n",
    "except (FileNotFoundError, ) as e:\n",
    "    print(\"Pre-trained model not found. Err msg: '{}' \".format(e.args[-1]))\n",
    "\n",
    "model.to(device)\n",
    "bm_resnet = model\n",
    "\n",
    "test_model(bm_resnet, val_batch_gen, verbose=False, conf_mx=False)"
   ]
  },
  {
   "cell_type": "markdown",
   "metadata": {
    "colab_type": "text",
    "id": "FAmKEkj822Dn"
   },
   "source": [
    "### Final test"
   ]
  },
  {
   "cell_type": "code",
   "execution_count": null,
   "metadata": {
    "colab": {},
    "colab_type": "code",
    "id": "4oAWwE6322Do"
   },
   "outputs": [],
   "source": [
    "model.train(False) # disable dropout / use averages for batch_norm\n",
    "test_batch_acc = []\n",
    "for X_batch, y_batch in test_batch_gen:\n",
    "    logits = model(torch.FloatTensor(X_batch).cuda())\n",
    "    y_pred = logits.max(1)[1].data\n",
    "    set_trace()\n",
    "    test_batch_acc.append(np.mean( (y_batch.cpu() == y_pred.cpu()).numpy() ))\n",
    "\n",
    "\n",
    "test_accuracy = np.mean(test_batch_acc)\n",
    "    \n",
    "print(\"Final results:\")\n",
    "print(\"  test accuracy:\\t\\t{:.2f} %\".format(\n",
    "    test_accuracy * 100))\n",
    "\n",
    "if test_accuracy * 100 > 70:\n",
    "    print(\"U'r freakin' amazin'!\")\n",
    "elif test_accuracy * 100 > 50:\n",
    "    print(\"Achievement unlocked: 110lvl Warlock!\")\n",
    "elif test_accuracy * 100 > 40:\n",
    "    print(\"Achievement unlocked: 80lvl Warlock!\")\n",
    "elif test_accuracy * 100 > 30:\n",
    "    print(\"Achievement unlocked: 70lvl Warlock!\")\n",
    "elif test_accuracy * 100 > 20:\n",
    "    print(\"Achievement unlocked: 60lvl Warlock!\")\n",
    "else:\n",
    "    print(\"We need more magic! Follow instructons below\")"
   ]
  },
  {
   "cell_type": "markdown",
   "metadata": {
    "colab_type": "text",
    "id": "7Kst6EJ722Ds"
   },
   "source": [
    "When everything is done, please calculate accuracy on `tiny-imagenet-200/val`\n",
    "\n",
    "**Ooops, here is the problem:** in val folder all images are not separated into subfolders and you need to use annotation file and custom Dataset?? for this. Skipped this part\n"
   ]
  },
  {
   "cell_type": "code",
   "execution_count": null,
   "metadata": {
    "colab": {},
    "colab_type": "code",
    "id": "HimDJBSotJLQ"
   },
   "outputs": [],
   "source": [
    "class TinyImageNetDataset(Dataset):\n",
    "    \"\"\"TinyImageNet dataset for validation data.\"\"\"\n",
    "\n",
    "    def __init__(self, annotation, root_dir, transform=None):\n",
    "        \"\"\"\n",
    "        Args:\n",
    "            annotation (string): Path to the txt file with annotations.\n",
    "            root_dir (string): Directory with all the images.\n",
    "            transform (callable, optional): Optional transform to be applied\n",
    "                on a sample.\n",
    "        \"\"\"\n",
    "        \n",
    "        with open(annotation) as f:\n",
    "            data = f.readlines()\n",
    "        \n",
    "        labels = [x.split('\\t')[:2] for x in data]\n",
    "        \n",
    "        # labels\n",
    "        with open('tiny-imagenet-200/wnids.txt') as f:\n",
    "            class_ids = f.readlines()\n",
    "        # # val_dataset.targets[]\n",
    "        class_ids = dict([(y, x) for (x,y) in enumerate([x.split('\\n')[0] for x in class_ids])])\n",
    "        # class_ids['n01629819']\n",
    "        target = [class_ids[x] for x in labels]\n",
    "\n",
    "\n",
    "        self.landmarks_frame = pd.read_csv(csv_file)\n",
    "        self.root_dir = root_dir\n",
    "        self.transform = transform\n",
    "\n",
    "    def __len__(self):\n",
    "        return len(self.landmarks_frame)\n",
    "\n",
    "    def __getitem__(self, idx):\n",
    "        img_name = os.path.join(self.root_dir,\n",
    "                                self.landmarks_frame.iloc[idx, 0])\n",
    "        image = io.imread(img_name)\n",
    "        landmarks = self.landmarks_frame.iloc[idx, 1:].as_matrix()\n",
    "        landmarks = landmarks.astype('float').reshape(-1, 2)\n",
    "        sample = {'image': image, 'landmarks': landmarks}\n",
    "\n",
    "        if self.transform:\n",
    "            sample = self.transform(sample)\n",
    "\n",
    "        return sample"
   ]
  },
  {
   "cell_type": "code",
   "execution_count": null,
   "metadata": {
    "colab": {},
    "colab_type": "code",
    "id": "FuKurCDJ22Dt"
   },
   "outputs": [],
   "source": [
    "# Use 100k examples for training and validation (and testing). There is also 10k images in tiny-imagenet-200/test folder.\n",
    "# train_dataset = datasets.ImageFolder('tiny-imagenet-200/train', \n",
    "#                                transform=complex_transform if aug else transform)\n",
    "\n",
    "# val_dataset = datasets.DatasetFolder('tiny-imagenet-200/val', \n",
    "#                                transform=complex_transform if aug else transform)\n",
    "\n",
    "test_dataset = datasets.ImageFolder('tiny-imagenet-200/test', transform=transform)\n",
    "\n",
    "#Save some data for final TEST evaluation\n",
    "# test_dataset = torchvision.datasets.ImageFolder('tiny-imagenet-200/test', transform=transform)\n",
    "\n",
    "train_batch_gen = torch.utils.data.DataLoader(train_dataset, batch_size=BATCH_SIZE, \n",
    "                                              shuffle=True,  num_workers=NUM_WORKERS)\n",
    "val_batch_gen = torch.utils.data.DataLoader(val_dataset, batch_size=BATCH_SIZE, \n",
    "                                            shuffle=True, num_workers=NUM_WORKERS)\n",
    "test_batch_gen = torch.utils.data.DataLoader(test_dataset, batch_size=BATCH_SIZE, \n",
    "                                             shuffle=False,  num_workers=NUM_WORKERS)\n",
    "\n",
    "# test_dataset = torchvision.datasets.ImageFolder('tiny-imagenet-200/val', transform=complex_transform)\n",
    "# test_batch_gen = torch.utils.data.DataLoader(test_dataset, batch_size=BATCH_SIZE, \n",
    "#                                              shuffle=False,  num_workers=NUM_WORKERS)\n",
    "# len(test_dataset)"
   ]
  },
  {
   "cell_type": "code",
   "execution_count": null,
   "metadata": {
    "colab": {},
    "colab_type": "code",
    "id": "0LWbVL1uXjGq"
   },
   "outputs": [],
   "source": []
  },
  {
   "cell_type": "code",
   "execution_count": 62,
   "metadata": {
    "colab": {
     "base_uri": "https://localhost:8080/",
     "height": 68
    },
    "colab_type": "code",
    "executionInfo": {
     "elapsed": 728,
     "status": "ok",
     "timestamp": 1557938508664,
     "user": {
      "displayName": "Джамиль Закиров",
      "photoUrl": "https://lh5.googleusercontent.com/-IV5sx_HR8LI/AAAAAAAAAAI/AAAAAAAAAQs/9yb2itRQNcI/s64/photo.jpg",
      "userId": "15164362533860163844"
     },
     "user_tz": -180
    },
    "id": "BbnN6VOe22Dx",
    "outputId": "2ff4acf1-1f10-4288-acc1-7d67db5adcb1"
   },
   "outputs": [
    {
     "name": "stdout",
     "output_type": "stream",
     "text": [
      "Final results:\n",
      "  test accuracy:\t\t0.40 %\n",
      "We need more magic! Follow instructons below\n"
     ]
    }
   ],
   "source": [
    "print(\"Final results:\")\n",
    "print(\"  test accuracy:\\t\\t{:.2f} %\".format(\n",
    "    test_accuracy * 100))\n",
    "\n",
    "if test_accuracy * 100 > 40:\n",
    "    print(\"Achievement unlocked: 110lvl Warlock!\")\n",
    "elif test_accuracy * 100 > 35:\n",
    "    print(\"Achievement unlocked: 80lvl Warlock!\")\n",
    "elif test_accuracy * 100 > 30:\n",
    "    print(\"Achievement unlocked: 70lvl Warlock!\")\n",
    "elif test_accuracy * 100 > 25:\n",
    "    print(\"Achievement unlocked: 60lvl Warlock!\")\n",
    "else:\n",
    "    print(\"We need more magic! Follow instructons below\")"
   ]
  },
  {
   "cell_type": "markdown",
   "metadata": {
    "colab": {},
    "colab_type": "code",
    "id": "VY3-lvGSq_Sd"
   },
   "source": [
    "## Fine-tuning\n",
    "\n",
    "### In practice it is easier to use pre-trained NN\n",
    "\n",
    "\n",
    "We may see, that our current model performs quite well even after a small number of training epochs.\n",
    "\n",
    "But for more complicated image classification or other computer vision tasks, it may be difficult to train CNN model from scratch.\n",
    "\n",
    "State-of-the-art models consist of huge number of layers (100-200 convolutional blocks) and require powerful hardware to converge.\n",
    "\n",
    "Thankfully, there are lots of pre-trained models available to be used for your own task, only slightly fitting some of the final layers to your data.\n",
    "\n",
    "This is called fine-tuning.\n",
    "\n",
    "Let's try to load a pre-trained [ResNet-18](https://arxiv.org/abs/1512.03385) model from torch archive and fine-tune its final layers.\n",
    "\n",
    "### ResNet (Shortcut + Batch Normalization)\n",
    " "
   ]
  },
  {
   "cell_type": "code",
   "execution_count": 33,
   "metadata": {
    "colab": {},
    "colab_type": "code",
    "id": "Wznobt_oQAW_"
   },
   "outputs": [],
   "source": [
    "# Load pre-trained model\n",
    "model_resnet18 = torchvision.models.resnet18(pretrained=True)\n",
    "\n",
    "# Disable gradient updates for all the layers except  the final layer\n",
    "for param in model_resnet18.parameters():\n",
    "    param.requires_grad = False\n",
    "\n",
    "# Parameters of newly constructed modules have requires_grad=True by default\n",
    "num_ftrs = model_resnet18.fc.in_features\n",
    "# Sigmoid because originally solved binary classification task. Change\n",
    "# for logSoftMax or SoftMax in case of multiple classes\n",
    "model_resnet18.fc = nn.Sequential(nn.Linear(num_ftrs, NUM_CLASSES), nn.Sigmoid())\n",
    "\n",
    "# Use available device for calculations\n",
    "model_resnet18 = model_resnet18.to(device)"
   ]
  },
  {
   "cell_type": "code",
   "execution_count": null,
   "metadata": {
    "colab": {},
    "colab_type": "code",
    "id": "5rDvxPBkQAXC",
    "outputId": "effb9262-01f5-4d20-d638-9966a75031e3"
   },
   "outputs": [],
   "source": [
    "summary(model_resnet18, (3, SIZE_H, SIZE_W))"
   ]
  },
  {
   "cell_type": "markdown",
   "metadata": {
    "colab_type": "text",
    "id": "N9u_c-t_QAXF"
   },
   "source": [
    "#### Training (only for final layer)"
   ]
  },
  {
   "cell_type": "code",
   "execution_count": null,
   "metadata": {
    "colab": {},
    "colab_type": "code",
    "id": "74zaJbG6q_PN",
    "outputId": "59b82844-bc84-433e-c4ea-2005a952fe4f"
   },
   "outputs": [],
   "source": [
    "# Observe that only parameters of final layer are being optimized as opposed to before\n",
    "opt_resnet = torch.optim.Adam(model_resnet18.fc.parameters(), lr=3e-4)\n",
    "ckpt_name_resnet18='model_resnet_18_finetune.ckpt'\n",
    "\n",
    "model_resnet18, opt_resnet, custom_objects = train_model(model_resnet18,\n",
    "                                                         train_aug_batch_gen, \n",
    "                                                         val_batch_gen,\n",
    "                                                         opt_resnet,\n",
    "                                                         ckpt_name=ckpt_name_resnet18,\n",
    "                                                         n_epochs=EPOCH_NUM * 2)"
   ]
  },
  {
   "cell_type": "markdown",
   "metadata": {
    "colab_type": "text",
    "id": "bmj4A9QG22Dz"
   },
   "source": [
    "```\n",
    "\n",
    "```\n",
    "\n",
    "```\n",
    "\n",
    "```\n",
    "\n",
    "```\n",
    "\n",
    "```\n",
    "\n",
    "\n",
    "# Report\n",
    "\n",
    "All creative approaches are highly welcome, but at the very least it would be great to mention\n",
    "* the idea;\n",
    "* brief history of tweaks and improvements;\n",
    "* what is the final architecture and why?\n",
    "* what is the training method and, again, why?\n",
    "* Any regularizations and other techniques applied and their effects;\n",
    "\n",
    "\n",
    "There is no need to write strict mathematical proofs (unless you want to).\n",
    " * \"I tried this, this and this, and the second one turned out to be better. And i just didn't like the name of that one\" - OK, but can be better\n",
    " * \"I have analized these and these articles|sources|blog posts, tried that and that to adapt them to my problem and the conclusions are such and such\" - the ideal one\n",
    " * \"I took that code that demo without understanding it, but i'll never confess that and instead i'll make up some pseudoscientific explaination\" - __not_ok__"
   ]
  },
  {
   "cell_type": "markdown",
   "metadata": {
    "colab_type": "text",
    "id": "9otjb2Ov22D2"
   },
   "source": [
    "### Hi, my name is `___ ___`, and here's my story\n",
    "\n",
    "A long time ago in a galaxy far far away, when it was still more than an hour before the deadline, i got an idea:\n",
    "\n",
    "##### I gonna build a neural network, that\n",
    "* brief text on what was\n",
    "* the original idea\n",
    "* and why it was so\n",
    "\n",
    "How could i be so naive?!\n",
    "\n",
    "##### One day, with no signs of warning,\n",
    "This thing has finally converged and\n",
    "* Some explaination about what were the results,\n",
    "* what worked and what didn't\n",
    "* most importantly - what next steps were taken, if any\n",
    "* and what were their respective outcomes\n",
    "\n",
    "##### Finally, after __  iterations, __ mugs of [tea/coffee]\n",
    "* what was the final architecture\n",
    "* as well as training method and tricks\n",
    "\n",
    "That, having wasted ____ [minutes, hours or days] of my life training, got\n",
    "\n",
    "* accuracy on training: __\n",
    "* accuracy on validation: __\n",
    "* accuracy on test: __\n",
    "\n",
    "\n",
    "[an optional afterword and mortal curses on assignment authors]"
   ]
  }
 ],
 "metadata": {
  "accelerator": "GPU",
  "colab": {
   "collapsed_sections": [
    "qCmPbf0NLARy",
    "y2lGQ9rdNBe3",
    "bmj4A9QG22Dz"
   ],
   "name": "HW2_TinyImagenet.ipynb",
   "provenance": [],
   "version": "0.3.2"
  },
  "kernelspec": {
   "display_name": "Python 3",
   "language": "python",
   "name": "python3"
  },
  "language_info": {
   "codemirror_mode": {
    "name": "ipython",
    "version": 3
   },
   "file_extension": ".py",
   "mimetype": "text/x-python",
   "name": "python",
   "nbconvert_exporter": "python",
   "pygments_lexer": "ipython3",
   "version": "3.7.2"
  }
 },
 "nbformat": 4,
 "nbformat_minor": 2
}
