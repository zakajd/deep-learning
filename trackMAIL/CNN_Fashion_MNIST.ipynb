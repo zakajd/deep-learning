{
 "cells": [
  {
   "cell_type": "markdown",
   "metadata": {},
   "source": [
    "### Часть 1. Overfit it (1.5 points)"
   ]
  },
  {
   "cell_type": "markdown",
   "metadata": {},
   "source": [
    "Simple convolutional neural network for image classification: fashion-MNIST\n",
    "This notebook shows a model for reaching 92.32% accuracy for fashion-mnist. I tried to create a simple conv net without extremly deep network. Furthermore I evaluate the generalization of the network for classification on tradional MNIST at the end.\n",
    "\n",
    "Будем работать с датасетом [Fashion-MNIST](https://github.com/zalandoresearch/fashion-mnist) (*hint: он доступен в torchvision*).\n",
    "\n",
    "Ваша задача состоит в следующем:\n",
    "1. Обучить сеть, которая покажет >= 0.94 test accuracy.\n",
    "2. Пронаблюдать и продемонстрировать процесс переобучения сети с увеличением числа параметров (==нейронов) и продемонстрировать это наглядно (например, на графиках).\n",
    "3. Попробовать частично справиться с переобучением с помощью подходящих приемов (Dropout/batchnorm/augmentation etc.)\n",
    "\n",
    "*Примечание*: Пункты 2 и 3 взаимосвязаны, в п.3 Вам прелагается сделать полученную в п.2 сеть менее склонной к переобучению. Пункт 1 является независимым от пунктов 2 и 3."
   ]
  },
  {
   "cell_type": "markdown",
   "metadata": {},
   "source": [
    "**Imports and constants**"
   ]
  },
  {
   "cell_type": "code",
   "execution_count": 148,
   "metadata": {},
   "outputs": [
    {
     "name": "stdout",
     "output_type": "stream",
     "text": [
      "NumPy version: \t\t1.16.3\n",
      "PyTorch version: \t1.0.1.post2\n"
     ]
    }
   ],
   "source": [
    "# Your great code here\n",
    "import matplotlib.pyplot as plt\n",
    "from matplotlib.cm import get_cmap\n",
    "import numpy as np\n",
    "import torch\n",
    "\n",
    "import torch.nn as nn\n",
    "import torch.nn.functional as F\n",
    "import torchvision.models as models\n",
    "\n",
    "from torch.utils.data import DataLoader, random_split\n",
    "torch.utils.data.random_split\n",
    "from torchvision import datasets\n",
    "from torchvision.transforms import transforms\n",
    "from torchsummary import summary\n",
    "\n",
    "from IPython.display import clear_output\n",
    "from IPython.core.debugger import set_trace\n",
    "from itertools import chain\n",
    "import time, sys\n",
    "from tqdm import tqdm_notebook as tqdm\n",
    "\n",
    "device = torch.device(\"cuda\") if torch.cuda.is_available() else torch.device(\"cpu\")\n",
    "\n",
    "# if you're running in google colab\n",
    "# 1. Comment this\n",
    "%matplotlib inline\n",
    "# reload modules before executing each line\n",
    "%reload_ext autoreload\n",
    "%autoreload 2\n",
    "# 2. Uncomment this\n",
    "# from google.colab import drive\n",
    "# drive.mount('/content/gdrive', force_remount=True)\n",
    "# root_dir = \"/content/gdrive/My Drive/Colab Notebooks/\"\n",
    "# base_dir = root_dir + 'YDS/'\n",
    "# data_dir = root_dir + 'data/'\n",
    "# models_dir = root_dir + 'models/'\n",
    "\n",
    "print('NumPy version: \\t\\t%s' % np.__version__)\n",
    "print('PyTorch version: \\t%s' % torch.__version__)\n",
    "\n",
    "import warnings\n",
    "warnings.filterwarnings('ignore')"
   ]
  },
  {
   "cell_type": "code",
   "execution_count": 149,
   "metadata": {},
   "outputs": [],
   "source": [
    "### Let's have a cell with global hyperparameters for the CNNs in this notebook\n",
    "\n",
    "# Path to a directory with image dataset and subfolders for training, validation and final testing\n",
    "BASE_PATH = './'\n",
    "DATA_PATH = r\"../data/\" # PATH TO THE DATASET\n",
    "MODELS_PATH = r\"../models/\" # PATH TO FOLDER w\\ pre-trained models weights\n",
    "\n",
    "# If true, save model parameters to GDrive\n",
    "COLAB = False\n",
    "\n",
    "# Number of threads for data loader\n",
    "NUM_WORKERS = 4\n",
    "\n",
    "# \n",
    "ratio = 0.2\n",
    "\n",
    "# Image size: even though image sizes are bigger than 96, we use this to speed up training\n",
    "SIZE_H = SIZE_W = 28\n",
    "\n",
    "# Epochs: number of passes over the training data, we use it this small to reduce training babysitting time\n",
    "EPOCH_NUM = 20\n",
    "\n",
    "# Batch size: for batch gradient descent optimization, usually selected as 2**K elements\n",
    "BATCH_SIZE = 64\n",
    "\n",
    "# Last layer (embeddings) size for CNN models\n",
    "EMBEDDING_SIZE = 128\n",
    "\n",
    "# Images mean and std channelwise\n",
    "image_mean = [0.2861]\n",
    "image_std  = [0.3529] #[0.3526]\n",
    "\n",
    "\n",
    "# Number of classes in the dataset\n",
    "NUM_CLASSES = 10\n",
    "\n",
    "english_labels = [\"T-shirt/top\",\n",
    "                  \"Trouser\",\n",
    "                  \"Pullover\",\n",
    "                  \"Dress\",\n",
    "                  \"Coat\",\n",
    "                  \"Sandal\",\n",
    "                  \"Shirt\",\n",
    "                  \"Sneaker\",\n",
    "                  \"Bag\",\n",
    "                  \"Ankle boot\"]"
   ]
  },
  {
   "cell_type": "markdown",
   "metadata": {},
   "source": [
    "**Data preprocessing** "
   ]
  },
  {
   "cell_type": "code",
   "execution_count": 150,
   "metadata": {},
   "outputs": [],
   "source": [
    "## Use `norm = False` to count image_mean and image_std\n",
    "norm = True\n",
    "transform = transforms.Compose([transforms.ToTensor(),\n",
    "                                transforms.Normalize(mean=image_mean,\n",
    "                                                    std=image_std)])\n",
    "\n",
    "train_data = datasets.FashionMNIST(DATA_PATH, train=True, download=True,\n",
    "                                   transform=transform if norm else transforms.ToTensor())\n",
    "\n",
    "test_data = datasets.FashionMNIST(DATA_PATH, train=False, download=True,\n",
    "                                  transform=transform if norm else transforms.ToTensor())\n",
    "\n",
    "val_size = int(ratio * len(train_data)) \n",
    "\n",
    "train_data, val_data = random_split(train_data, \n",
    "                                    [len(train_data) - val_size , val_size])\n",
    "\n",
    "train_loader = DataLoader(train_data, \n",
    "                          batch_size=BATCH_SIZE, \n",
    "                          shuffle=True if norm else False, \n",
    "                          num_workers=NUM_WORKERS)\n",
    "\n",
    "val_loader = DataLoader(val_data, \n",
    "                        batch_size=BATCH_SIZE, \n",
    "                        shuffle=True if norm else False, \n",
    "                        num_workers=NUM_WORKERS)\n",
    "\n",
    "test_loader = DataLoader(test_data, \n",
    "                         batch_size=BATCH_SIZE,\n",
    "                         shuffle=True,\n",
    "                         num_workers=NUM_WORKERS)\n",
    "# val_loader = test_loader"
   ]
  },
  {
   "cell_type": "code",
   "execution_count": 151,
   "metadata": {},
   "outputs": [
    {
     "data": {
      "text/plain": [
       "(48000, 12000, 10000)"
      ]
     },
     "execution_count": 151,
     "metadata": {},
     "output_type": "execute_result"
    }
   ],
   "source": [
    "len(train_loader.dataset), len(val_loader.dataset), len(test_loader.dataset)"
   ]
  },
  {
   "cell_type": "code",
   "execution_count": 53,
   "metadata": {},
   "outputs": [
    {
     "name": "stdout",
     "output_type": "stream",
     "text": [
      "[0.2861] [0.3529]\n"
     ]
    }
   ],
   "source": [
    "if not norm:\n",
    "    # Count mean for each channel. Assume t.shape == (batch_size, channels, h, w)\n",
    "    image_mean = torch.stack([torch.mean(t, (0,2,3)) for t, c in train_loader])\n",
    "    image_mean = torch.mean(image_mean, 0)\n",
    "\n",
    "    # Count std for each channel. Assume t.shape == (batch_size, channels, h, w)\n",
    "    image_std = torch.stack([torch.sqrt(\n",
    "            torch.mean((t - torch.mean(t, (0,2,3), keepdim=True))**2, (0,2,3))) for t, c in train_loader])\n",
    "    image_std = torch.mean(image_std, 0)\n",
    "\n",
    "print(image_mean, image_std)"
   ]
  },
  {
   "cell_type": "code",
   "execution_count": 54,
   "metadata": {},
   "outputs": [
    {
     "name": "stdout",
     "output_type": "stream",
     "text": [
      "torch.Size([1, 28, 28])\n",
      "9 Ankle boot\n"
     ]
    },
    {
     "data": {
      "image/png": "[encoded data removed]",
      "text/plain": [
       "<Figure size 432x288 with 1 Axes>"
      ]
     },
     "metadata": {
      "needs_background": "light"
     },
     "output_type": "display_data"
    }
   ],
   "source": [
    "# Let's take a look at our data\n",
    "\n",
    "img, target = train_data[56]\n",
    "# channel x width x height\n",
    "print(img.shape)\n",
    "print(target, english_labels[target])\n",
    "\n",
    "fig, ax = plt.subplots(1, 1)\n",
    "ax.imshow(img[0].numpy(), cmap=get_cmap('gray'))\n",
    "plt.show()"
   ]
  },
  {
   "cell_type": "markdown",
   "metadata": {},
   "source": [
    "**Model definition**"
   ]
  },
  {
   "cell_type": "code",
   "execution_count": 55,
   "metadata": {},
   "outputs": [],
   "source": [
    "class Flatten(nn.Module):\n",
    "    def forward(self, input):\n",
    "        return input.view(input.size(0), -1)\n",
    "\n",
    "class SimpleCNN(nn.Module):\n",
    "    def __init__(self):\n",
    "        super(SimpleCNN, self).__init__()\n",
    "        # _ x 1 x 28 x 28\n",
    "        self.model = nn.Sequential(\n",
    "            nn.Conv2d(1, 32, 3, padding=1),\n",
    "            # _ x 32 x 28 x 28\n",
    "            nn.ReLU(),\n",
    "            nn.MaxPool2d(2, stride=2),\n",
    "            # _ x 32 x 14 x 14\n",
    "\n",
    "            nn.Conv2d(32, 32, 3, padding=1),\n",
    "            # _ x 32 x 14 x 14\n",
    "            nn.ReLU(),\n",
    "            nn.MaxPool2d(2, stride=2)\n",
    "            # _ x 32 x 7 x 7    \n",
    "        )\n",
    "\n",
    "        self.fc = nn.Sequential(\n",
    "            # this converts our 2D feature maps to 1D feature vectors\n",
    "            Flatten(),\n",
    "            # _ x 32 * 7 * 7 \n",
    "            nn.Linear(32 * 7 * 7, EMBEDDING_SIZE),\n",
    "            nn.ReLU()\n",
    "        )\n",
    "        \n",
    "        self.pred = nn.Sequential(\n",
    "            nn.Linear(EMBEDDING_SIZE, NUM_CLASSES),\n",
    "            nn.LogSoftmax(dim=1)\n",
    "        )\n",
    "        \n",
    "    def forward(self, x):\n",
    "        x = self.model(x)\n",
    "        x = self.fc(x)\n",
    "        x = self.pred(x)\n",
    "        return x\n",
    "        \n",
    "    def reset_parameters(self):\n",
    "        for module in chain(self.model,  self.fc, self.pred):      \n",
    "            try:\n",
    "                module.reset_parameters()\n",
    "                print(module)\n",
    "            except AttributeError:\n",
    "                pass\n",
    "\n",
    "class GoodCNN(nn.Module):\n",
    "    def __init__(self):\n",
    "        super(GoodCNN, self).__init__()\n",
    "        # _ x 1 x 28 x 28\n",
    "        self.model = nn.Sequential(\n",
    "            nn.Conv2d(1, 16, 3, padding=1),\n",
    "            # _ x 16 x 28 x 28\n",
    "            nn.BatchNorm2d(16),\n",
    "            nn.ReLU(),\n",
    "            nn.MaxPool2d(2, stride=2),\n",
    "            # _ x 16 x 14 x 14\n",
    "            nn.Conv2d(16, 32, 3, padding=1),\n",
    "            # _ x 32 x 14 x 14\n",
    "            nn.BatchNorm2d(32),\n",
    "            nn.ReLU(),\n",
    "            nn.MaxPool2d(2, stride=2),\n",
    "            # _ x 32 x 7 x 7             \n",
    "            nn.Conv2d(32, 64, 3, padding=1),\n",
    "            # _ x 64 x 7 x 7\n",
    "            nn.BatchNorm2d(64),\n",
    "            nn.ReLU(),\n",
    "            nn.MaxPool2d(2, stride=2)\n",
    "            # _ x 64 x 3 x 3\n",
    "        )\n",
    "\n",
    "        self.fc = nn.Sequential(\n",
    "            # this converts our 2D feature maps to 1D feature vectors\n",
    "            Flatten(),\n",
    "            # _ x 64 * 3 * 3 \n",
    "            nn.Linear(64 * 3 * 3, EMBEDDING_SIZE),\n",
    "            nn.ReLU()\n",
    "        )\n",
    "        \n",
    "        self.pred = nn.Sequential(\n",
    "            nn.Linear(EMBEDDING_SIZE, NUM_CLASSES),\n",
    "            nn.LogSoftmax(dim=1)\n",
    "        )\n",
    "        \n",
    "    def forward(self, x):\n",
    "        x = self.model(x)\n",
    "        x = self.fc(x)\n",
    "        x = self.pred(x)\n",
    "        return x\n",
    "        \n",
    "    def reset_parameters(self):\n",
    "        for module in chain(self.model,  self.fc, self.pred):      \n",
    "            try:\n",
    "                module.reset_parameters()\n",
    "                print(module)\n",
    "            except AttributeError:\n",
    "                pass\n",
    " "
   ]
  },
  {
   "cell_type": "code",
   "execution_count": 56,
   "metadata": {},
   "outputs": [],
   "source": [
    "model = SimpleCNN()\n",
    "# summary(model, (1, SIZE_H, SIZE_W))\n",
    "model = GoodCNN()\n",
    "# summary(model, (1, SIZE_H, SIZE_W))"
   ]
  },
  {
   "cell_type": "markdown",
   "metadata": {},
   "source": [
    "**Train and test loops**"
   ]
  },
  {
   "cell_type": "code",
   "execution_count": 57,
   "metadata": {},
   "outputs": [],
   "source": [
    "def train_model(model, train_batch_generator, val_batch_generator, \n",
    "                opt=None, ckpt_name=None, n_epochs=EPOCH_NUM, \n",
    "                annealing=False, verbose=True):\n",
    "    if verbose:\n",
    "        print(\"Train on {} samples, validate on {}\".format(len(train_batch_generator.dataset), \n",
    "                                                           len(val_batch_generator.dataset)))\n",
    "    \n",
    "    logs = {'epoch': [], 'train_loss': [], 'val_loss': [],\n",
    "        'val_accuracy': [],'top_val_accuracy' : 0, 'lr': []}\n",
    "    \n",
    "    best_model = None\n",
    "    iteration = 0\n",
    "    top_val_accuracy = 0\n",
    "    \n",
    "    if opt:\n",
    "        optimizer=opt\n",
    "    else:\n",
    "        optimizer = torch.optim.SGD(model.parameters(), \n",
    "                                    lr=0.001, \n",
    "                                    weight_decay=0.0001, \n",
    "                                    momentum=0.9)\n",
    "    \n",
    "    model = model.to(device)\n",
    "    criterion = nn.CrossEntropyLoss()\n",
    "#     criterion = nn.NLLLoss(reduction='mean')\n",
    "\n",
    "    for epoch in range(n_epochs):\n",
    "        train_loss = []\n",
    "        val_loss = []\n",
    "        val_accuracy = []\n",
    "        start_time = time.time()\n",
    "        \n",
    "        \n",
    "        if epoch == 10 and annealing:\n",
    "            optimizer.param_groups[0]['lr'] *= .1  \n",
    "        elif epoch == 20 and annealing:\n",
    "            optimizer.param_groups[0]['lr'] *= .1\n",
    "        \n",
    "        # TRAIN\n",
    "        model.train(True) # enable dropout / batch_norm training behavior\n",
    "        for (X_batch, y_batch) in tqdm(train_batch_generator, desc='Training'):\n",
    "            # move data to target device\n",
    "            assert len(X_batch) == len(y_batch)\n",
    "            X_batch, y_batch = X_batch.to(device), y_batch.to(device)\n",
    "            # zero the parameter gradients\n",
    "            optimizer.zero_grad()\n",
    "            # train on batch: compute loss, calc grads, perform optimizer step\n",
    "            predictions = model(X_batch)\n",
    "            loss = criterion(predictions, y_batch)\n",
    "            loss.backward()    \n",
    "            optimizer.step()\n",
    "\n",
    "            train_loss.append(loss.cpu().data.numpy())\n",
    "            \n",
    "#             if annealing: scheduler.step(epoch)\n",
    "\n",
    "        # TEST / VALIDATE\n",
    "        val_accuracy, val_loss = test_model(model, val_batch_generator, criterion=criterion)\n",
    "           \n",
    "        clear_output(wait=True)\n",
    "        # print the results for this epoch:\n",
    "        print(\"Epoch {} of {} took {:.3f}s\".format(\n",
    "            epoch + 1, n_epochs, time.time() - start_time))\n",
    "        \n",
    "\n",
    "        train_loss_value = np.mean(train_loss)\n",
    "        val_accuracy_value = np.mean(val_accuracy) * 100\n",
    "        \n",
    "        print(\"  training loss (in-iteration): \\t{:.6f}\".format(train_loss_value))\n",
    "        print(\"  validation accuracy: \\t\\t\\t{:.2f} %\".format(val_accuracy_value))\n",
    "        \n",
    "        #Crutch to add parameter to the model\n",
    "#         model.register_buffer('val_accuracy', torch.Tensor([val_accuracy_value]))\n",
    "        \n",
    "        if val_accuracy_value > top_val_accuracy and ckpt_name is not None:\n",
    "            top_val_accuracy = val_accuracy_value\n",
    "            print('top val accuracy: %.3f' % top_val_accuracy)\n",
    "            #save checkpoint of the best model to disk\n",
    "            with open(MODELS_PATH + ckpt_name, 'wb') as f: torch.save(model, f)\n",
    "        \n",
    "        logs['epoch'].append(epoch)\n",
    "        logs['train_loss'].append(train_loss_value)\n",
    "        logs['val_loss'].append(val_loss)\n",
    "        logs['val_accuracy'].append(val_accuracy)\n",
    "        logs['lr'].append(optimizer.param_groups[0]['lr'])\n",
    "\n",
    "        \n",
    "        custom_objects = (logs, )\n",
    "        \n",
    "    # Load best model found during trainig\n",
    "    if ckpt_name is not None:\n",
    "        with open(MODELS_PATH + ckpt_name, 'rb') as f: best_model = torch.load(f)\n",
    " \n",
    "    return best_model, opt, custom_objects\n"
   ]
  },
  {
   "cell_type": "code",
   "execution_count": 58,
   "metadata": {},
   "outputs": [],
   "source": [
    "def test_model(model, test_batch_generator, criterion=None, subset='test', verbose=False):\n",
    "    \"\"\"\n",
    "    Compute model performance on test/validation dataset\n",
    "    :criterion: used to compute loss\n",
    "    \"\"\"\n",
    "    model.train(False) # disable dropout / use averages for batch_norm\n",
    "    test_batch_acc, test_batch_loss = [], []\n",
    "    for X_batch, y_batch in test_batch_generator:\n",
    "        # move data to target device\n",
    "        X_batch, y_batch = X_batch.to(device), y_batch.to(device)\n",
    "        # compute logits\n",
    "        logits = model(X_batch)\n",
    "        # compute loss if needed\n",
    "        if criterion is not None:\n",
    "            loss = criterion(logits, y_batch)\n",
    "            test_batch_loss.append(loss.cpu().data.numpy())\n",
    "        \n",
    "        y_pred = logits.max(1)[1].data\n",
    "        test_batch_acc.append(np.mean( (y_batch.cpu() == y_pred.cpu()).numpy() ))\n",
    "\n",
    "    test_accuracy = np.mean(test_batch_acc)\n",
    "    test_loss = np.mean(test_batch_loss)\n",
    "            \n",
    "    if verbose:\n",
    "        print(\"Results:\")\n",
    "        print(\"  {} accuracy:\\t\\t{:.2f} %\".format(subset, test_accuracy * 100))\n",
    "        if test_accuracy * 100 > 90:\n",
    "            print(\"Amazing!\")\n",
    "        elif test_accuracy * 100 > 70:\n",
    "            print(\"Good!\")\n",
    "        else:\n",
    "            print(\"We need more magic! Follow instructons below\")\n",
    "    return test_accuracy, test_loss"
   ]
  },
  {
   "cell_type": "code",
   "execution_count": 126,
   "metadata": {},
   "outputs": [],
   "source": [
    "def lr_finder(model, train_batch_generator, opt, lr_start=1e-6, lr_end=1e1, beta=0.99, plot=True):\n",
    "    \"\"\"\n",
    "    Search for optimal learning rate and plot it's landscape\n",
    "    Used: docs.fast.ai/callbacks.one_cycle.html and\n",
    "          sgugger.github.io/the-1cycle-policy.html\n",
    "    \"\"\"\n",
    "    loss_history, lr_history= [], []\n",
    "    i, avg_loss, best_loss = 0, 0., float('inf')\n",
    "    \n",
    "    criterion = nn.CrossEntropyLoss()\n",
    "    \n",
    "    # Number of iterations for one epoch\n",
    "    N = len(train_batch_generator)\n",
    "    # Evenly distribute lr samples on log scale\n",
    "    q = (lr_end / lr_start) ** (1/N)\n",
    "    lr = lr_start\n",
    "    \n",
    "    optimizer = opt\n",
    "    optimizer.param_groups[0]['lr'] = lr\n",
    "    \n",
    "    for (X_batch, y_batch) in tqdm(train_batch_generator, desc='Searching'):\n",
    "        i += 1\n",
    "        # move data to target device\n",
    "        X_batch, y_batch = X_batch.to(device), y_batch.to(device)\n",
    "        # compute loss, calc grads, perform optimizer step and zero the grads\n",
    "        predictions = model(X_batch)\n",
    "        loss = criterion(predictions, y_batch)\n",
    "        \n",
    "        #Smoothed loss\n",
    "        avg_loss = beta * avg_loss + (1-beta) * loss.data.item()\n",
    "        smoothed_loss = avg_loss / (1 - beta**i)\n",
    "        \n",
    "        #Stop if the loss is exploding\n",
    "        if i > 1 and smoothed_loss > 4 * best_loss:\n",
    "            return loss_history, lr_history, best_lr \n",
    "          \n",
    "        #Record the best loss\n",
    "        if smoothed_loss < best_loss or i==1:\n",
    "            best_loss = smoothed_loss\n",
    "            best_lr = lr\n",
    "            \n",
    "        #Store the values\n",
    "        loss_history.append(smoothed_loss)\n",
    "        lr_history.append(np.log10(lr))\n",
    "        \n",
    "        #Do optimizer step\n",
    "        loss.backward()    \n",
    "\n",
    "        optimizer.step()\n",
    "        # zero the parameter gradients\n",
    "        optimizer.zero_grad()\n",
    "        \n",
    "        #Update the lr for the next step\n",
    "        lr *= q\n",
    "        optimizer.param_groups[0]['lr'] = lr\n",
    "        \n",
    "    if plot:\n",
    "        fig, ax = plt.subplots(1,2)\n",
    "        ax[0].plot(lr_history,loss_history)\n",
    "        ax[0].set_xlabel('LR')\n",
    "        ax[0].set_ylabel('Loss')\n",
    "        \n",
    "        ax[1].plot([10 ** x for x in lr_history])\n",
    "        ax[1].set_xlabel('Iteration')\n",
    "        ax[1].set_ylabel('LR')\n",
    "        \n",
    "    return loss_history, lr_history, best_lr"
   ]
  },
  {
   "cell_type": "markdown",
   "metadata": {},
   "source": [
    "#### Training\n",
    "**Part 1**\n",
    "\n",
    "Обучить сеть, которая покажет >= 0.94 test accuracy."
   ]
  },
  {
   "cell_type": "code",
   "execution_count": 134,
   "metadata": {},
   "outputs": [
    {
     "name": "stdout",
     "output_type": "stream",
     "text": [
      "Pre-trained model not found. Err msg: 'No such file or directory' \n",
      "Model validation accuracy = 18.60%\n",
      "----------------------------------------------------------------\n",
      "        Layer (type)               Output Shape         Param #\n",
      "================================================================\n",
      "            Conv2d-1           [-1, 32, 28, 28]             320\n",
      "              ReLU-2           [-1, 32, 28, 28]               0\n",
      "         MaxPool2d-3           [-1, 32, 14, 14]               0\n",
      "            Conv2d-4           [-1, 32, 14, 14]           9,248\n",
      "              ReLU-5           [-1, 32, 14, 14]               0\n",
      "         MaxPool2d-6             [-1, 32, 7, 7]               0\n",
      "           Flatten-7                 [-1, 1568]               0\n",
      "            Linear-8                  [-1, 256]         401,664\n",
      "              ReLU-9                  [-1, 256]               0\n",
      "           Linear-10                   [-1, 10]           2,570\n",
      "       LogSoftmax-11                   [-1, 10]               0\n",
      "================================================================\n",
      "Total params: 413,802\n",
      "Trainable params: 413,802\n",
      "Non-trainable params: 0\n",
      "----------------------------------------------------------------\n",
      "Input size (MB): 0.00\n",
      "Forward/backward pass size (MB): 0.55\n",
      "Params size (MB): 1.58\n",
      "Estimated Total Size (MB): 2.14\n",
      "----------------------------------------------------------------\n"
     ]
    }
   ],
   "source": [
    "model = SimpleCNN()\n",
    "model_name = 'simple_cnn'\n",
    "\n",
    "lr = 1e-3\n",
    "opt = torch.optim.Adam(model.parameters(), \n",
    "                       lr=lr, \n",
    "                       betas=(0.9, 0.999), \n",
    "                       eps=1e-08, \n",
    "                       weight_decay=1e-5)\n",
    "\n",
    "scheduler = torch.optim.lr_scheduler.CosineAnnealingLR(opt,\n",
    "                                                       T_max=3,\n",
    "                                                       last_epoch=-1)\n",
    "\n",
    "# Try to load previosly trained model first\n",
    "try:\n",
    "    with open(MODELS_PATH + model_name, 'rb') as f: model = torch.load(f)\n",
    "    try:\n",
    "        acc = model.state_dict()['val_accuracy'][0].item()\n",
    "    except KeyError:\n",
    "        print(\"Loaded succesfully!\")\n",
    "except (FileNotFoundError, ) as e:\n",
    "    print(\"Pre-trained model not found. Err msg: '{}' \".format(e.args[-1]))\n",
    "\n",
    "\n",
    "acc, _ = test_model(model, val_loader)\n",
    "print(\"Model validation accuracy = {:.2f}%\".format(acc * 100))\n",
    "summary(model, (1, SIZE_H, SIZE_W))"
   ]
  },
  {
   "cell_type": "code",
   "execution_count": 135,
   "metadata": {},
   "outputs": [
    {
     "name": "stdout",
     "output_type": "stream",
     "text": [
      "Epoch 30 of 30 took 55.021s\n",
      "  training loss (in-iteration): \t0.215101\n",
      "  validation accuracy: \t\t\t91.06 %\n"
     ]
    }
   ],
   "source": [
    "bm, optim, custom_obj = train_model(model, train_loader, val_loader, opt, \n",
    "                                    ckpt_name=model_name, n_epochs=30, \n",
    "                                    verbose=False, annealing=True)"
   ]
  },
  {
   "cell_type": "code",
   "execution_count": 139,
   "metadata": {},
   "outputs": [
    {
     "data": {
      "text/plain": [
       "Text(0, 0.5, 'Validation accuracy')"
      ]
     },
     "execution_count": 139,
     "metadata": {},
     "output_type": "execute_result"
    },
    {
     "data": {
      "image/png": "[encoded data removed]",
      "text/plain": [
       "<Figure size 432x288 with 2 Axes>"
      ]
     },
     "metadata": {
      "needs_background": "light"
     },
     "output_type": "display_data"
    }
   ],
   "source": [
    "logs = custom_obj[0]\n",
    "plt.subplot(1, 2, 1)\n",
    "plt.plot(logs['epoch'], logs['val_loss'],'g-', label='validation')\n",
    "plt.plot(logs['epoch'], logs['train_loss'], label = 'train')\n",
    "plt.xlabel('Epoch #')\n",
    "plt.ylabel('Loss')\n",
    "plt.legend()\n",
    "\n",
    "plt.subplot(1, 2, 2)\n",
    "# fig, ax = plt.subplots(2, 2)\n",
    "plt.plot(logs['epoch'], logs['val_accuracy'],'g-')\n",
    "plt.xlabel('Epoch #')\n",
    "plt.ylabel('Validation accuracy')\n",
    "# plt.legend()"
   ]
  },
  {
   "cell_type": "code",
   "execution_count": 140,
   "metadata": {},
   "outputs": [
    {
     "name": "stdout",
     "output_type": "stream",
     "text": [
      "Results:\n",
      "  test accuracy:\t\t90.28 %\n",
      "Amazing!\n"
     ]
    },
    {
     "data": {
      "text/plain": [
       "(0.90283203125, nan)"
      ]
     },
     "execution_count": 140,
     "metadata": {},
     "output_type": "execute_result"
    }
   ],
   "source": [
    "# Fimal test\n",
    "test_model(bm, test_loader, verbose=True)"
   ]
  },
  {
   "cell_type": "markdown",
   "metadata": {},
   "source": [
    "**Part 2**\n",
    "\n",
    "Пронаблюдать и продемонстрировать процесс переобучения сети с увеличением числа параметров (==нейронов) и продемонстрировать это наглядно (например, на графиках)."
   ]
  },
  {
   "cell_type": "code",
   "execution_count": null,
   "metadata": {},
   "outputs": [],
   "source": [
    "log = []\n",
    "for EMBEDDING_SIZE in [256, 512, 1024, 2048]:\n",
    "    model = SimpleCNN()\n",
    "    model_name = 'simple_cnn_{}'.format(EMBEDDING_SIZE)\n",
    "\n",
    "    lr = 3e-4\n",
    "    opt = torch.optim.Adam(model.parameters(), \n",
    "                           lr=lr, \n",
    "                           betas=(0.9, 0.99), \n",
    "                           eps=1e-08, \n",
    "                           weight_decay=0)\n",
    "\n",
    "    scheduler = torch.optim.lr_scheduler.CosineAnnealingLR(opt,\n",
    "                                                           T_max=3,\n",
    "                                                           last_epoch=-1)\n",
    "\n",
    "    _, _, custom_obj = train_model(model, train_loader, val_loader, opt, ckpt_name=model_name, n_epochs=3, verbose=False)\n",
    "    log.append(custom_obj[0])\n",
    "    "
   ]
  },
  {
   "cell_type": "code",
   "execution_count": null,
   "metadata": {},
   "outputs": [],
   "source": [
    "size = [256, 512, 1024, 2048]\n",
    "plt.figure(num=None, figsize=(18, 6), facecolor='w', edgecolor='k')\n",
    "for i, logs in enumerate(log):\n",
    "    plt.subplot(1, 3, 1)\n",
    "    plt.plot(logs['epoch'], logs['val_loss'], label='validation_{}'.format(size[i]))\n",
    "    plt.plot(logs['epoch'], logs['train_loss'], label = 'train_{}'.format(size[i]))\n",
    "    plt.xlabel('Epoch #')\n",
    "    plt.ylabel('Loss')\n",
    "    plt.legend()\n",
    "\n",
    "    plt.subplot(1, 3, 2)\n",
    "    # fig, ax = plt.subplots(2, 2)\n",
    "    plt.plot(logs['epoch'], logs['val_accuracy'], label='model_{}'.format(size[i]))\n",
    "    plt.xlabel('Epoch #')\n",
    "    plt.ylabel('Validation accuracy')\n",
    "    plt.legend()\n",
    "    \n",
    "    plt.subplot(1, 3, 3)\n",
    "    diff = [i - j for i, j in zip(logs['val_loss'], logs['train_loss'])]\n",
    "    plt.plot(logs['epoch'], diff, label='model_{}'.format(size[i]))\n",
    "    plt.xlabel('Epoch #')\n",
    "    plt.ylabel('Val and test loss difference')\n",
    "    plt.legend()"
   ]
  },
  {
   "cell_type": "markdown",
   "metadata": {},
   "source": [
    "На третьем графике видно, как ошибка на валидации сначала уменьшается и приближается к ошибке на обучающей выборке, но в какой-то момент начинаеет расти -- это и есть переобучение (сеть запоминает данные вместо выявления закономерностей и начинает сильнее ошибаться на тесте). "
   ]
  },
  {
   "cell_type": "markdown",
   "metadata": {},
   "source": [
    "**Part 3**\n",
    "\n",
    "Попробовать частично справиться с переобучением с помощью подходящих приемов (Dropout/batchnorm/augmentation etc.)"
   ]
  },
  {
   "cell_type": "code",
   "execution_count": 157,
   "metadata": {},
   "outputs": [
    {
     "name": "stdout",
     "output_type": "stream",
     "text": [
      "Loaded succesfully!\n",
      "Model validation accuracy = 89.92%\n",
      "----------------------------------------------------------------\n",
      "        Layer (type)               Output Shape         Param #\n",
      "================================================================\n",
      "            Conv2d-1           [-1, 16, 28, 28]             160\n",
      "       BatchNorm2d-2           [-1, 16, 28, 28]              32\n",
      "              ReLU-3           [-1, 16, 28, 28]               0\n",
      "         MaxPool2d-4           [-1, 16, 14, 14]               0\n",
      "            Conv2d-5           [-1, 32, 14, 14]           4,640\n",
      "       BatchNorm2d-6           [-1, 32, 14, 14]              64\n",
      "              ReLU-7           [-1, 32, 14, 14]               0\n",
      "         MaxPool2d-8             [-1, 32, 7, 7]               0\n",
      "            Conv2d-9             [-1, 64, 7, 7]          18,496\n",
      "      BatchNorm2d-10             [-1, 64, 7, 7]             128\n",
      "             ReLU-11             [-1, 64, 7, 7]               0\n",
      "        MaxPool2d-12             [-1, 64, 3, 3]               0\n",
      "          Flatten-13                  [-1, 576]               0\n",
      "           Linear-14                  [-1, 128]          73,856\n",
      "             ReLU-15                  [-1, 128]               0\n",
      "           Linear-16                   [-1, 10]           1,290\n",
      "       LogSoftmax-17                   [-1, 10]               0\n",
      "================================================================\n",
      "Total params: 98,666\n",
      "Trainable params: 98,666\n",
      "Non-trainable params: 0\n",
      "----------------------------------------------------------------\n",
      "Input size (MB): 0.00\n",
      "Forward/backward pass size (MB): 0.55\n",
      "Params size (MB): 0.38\n",
      "Estimated Total Size (MB): 0.93\n",
      "----------------------------------------------------------------\n"
     ]
    }
   ],
   "source": [
    "# EMBEDDING_SIZE = 256\n",
    "model = GoodCNN()\n",
    "model_name = 'good_cnn'\n",
    "\n",
    "lr = 3e-4\n",
    "opt = torch.optim.Adam(model.parameters(), \n",
    "                       lr=lr, \n",
    "                       betas=(0.9, 0.99), \n",
    "                       eps=1e-08, \n",
    "                       weight_decay=1e-5)\n",
    "\n",
    "scheduler = torch.optim.lr_scheduler.CosineAnnealingLR(opt,\n",
    "                                                       T_max=3,\n",
    "                                                       last_epoch=-1)\n",
    "\n",
    "# # Try to load previosly trained model first\n",
    "try:\n",
    "    with open(MODELS_PATH + model_name, 'rb') as f: model = torch.load(f)\n",
    "    try:\n",
    "        acc = model.state_dict()['val_accuracy'][0].item()\n",
    "    except KeyError:\n",
    "        acc, _ = test_model(model, val_loader)\n",
    "    print(\"Loaded succesfully!\")\n",
    "    print(\"Model validation accuracy = {:.2f}%\".format(acc * 100))\n",
    "    summary(model, (1, SIZE_H, SIZE_W))\n",
    "except (FileNotFoundError, ) as e:\n",
    "    print(\"Pre-trained model not found. Err msg: '{}' \".format(e.args[-1]))\n"
   ]
  },
  {
   "cell_type": "code",
   "execution_count": null,
   "metadata": {},
   "outputs": [],
   "source": [
    "bm, optim, custom_obj = train_model(model, train_loader, val_loader, \n",
    "                                    ckpt_name=model_name, n_epochs=30, \n",
    "                                    verbose=False, annealing=True)"
   ]
  },
  {
   "cell_type": "code",
   "execution_count": 155,
   "metadata": {},
   "outputs": [
    {
     "data": {
      "text/plain": [
       "Text(0, 0.5, 'Validation accuracy')"
      ]
     },
     "execution_count": 155,
     "metadata": {},
     "output_type": "execute_result"
    },
    {
     "data": {
      "image/png": "[encoded data removed]",
      "text/plain": [
       "<Figure size 432x288 with 2 Axes>"
      ]
     },
     "metadata": {
      "needs_background": "light"
     },
     "output_type": "display_data"
    }
   ],
   "source": [
    "logs = custom_obj[0]\n",
    "plt.subplot(1, 2, 1)\n",
    "plt.plot(logs['epoch'], logs['val_loss'],'g-', label='validation')\n",
    "plt.plot(logs['epoch'], logs['train_loss'], label = 'train')\n",
    "plt.legend()\n",
    "plt.xlabel('Epoch #')\n",
    "plt.ylabel('Loss')\n",
    "\n",
    "plt.subplot(1, 2, 2)\n",
    "# fig, ax = plt.subplots(2, 2)\n",
    "plt.plot(logs['epoch'], logs['val_accuracy'],'g-')\n",
    "plt.xlabel('Epoch #')\n",
    "plt.ylabel('Validation accuracy')"
   ]
  },
  {
   "cell_type": "code",
   "execution_count": 156,
   "metadata": {},
   "outputs": [
    {
     "name": "stdout",
     "output_type": "stream",
     "text": [
      "Results:\n",
      "  test accuracy:\t\t90.37 %\n",
      "Amazing!\n"
     ]
    },
    {
     "data": {
      "text/plain": [
       "(0.9036624203821656, nan)"
      ]
     },
     "execution_count": 156,
     "metadata": {},
     "output_type": "execute_result"
    }
   ],
   "source": [
    "# Fimal test\n",
    "test_model(bm, test_loader, verbose=True)"
   ]
  },
  {
   "cell_type": "markdown",
   "metadata": {},
   "source": [
    "**Fine-tunning**\n",
    "\n",
    "Используем предобученный ResNet и обучаем лишь полносвязный слой, оставляя нетронутым все остальные."
   ]
  },
  {
   "cell_type": "code",
   "execution_count": 143,
   "metadata": {},
   "outputs": [
    {
     "name": "stderr",
     "output_type": "stream",
     "text": [
      "Downloading: \"https://download.pytorch.org/models/resnet18-5c106cde.pth\" to /home/zakajd/.torch/models/resnet18-5c106cde.pth\n",
      "46827520it [00:36, 1278463.07it/s]\n"
     ]
    }
   ],
   "source": [
    "resnet18 = models.resnet18(pretrained=True)\n",
    "\n",
    "normalize = transforms.Normalize(mean=[0.485, 0.456, 0.406],\n",
    "                                 std=[0.229, 0.224, 0.225])"
   ]
  },
  {
   "cell_type": "code",
   "execution_count": 144,
   "metadata": {},
   "outputs": [],
   "source": [
    "# Flag for feature extracting. When False, we finetune the whole model,\n",
    "#   when True we only update the reshaped layer params\n",
    "feature_extract = True\n",
    "\n",
    "def set_parameter_requires_grad(model, feature_extracting):\n",
    "    if feature_extracting:\n",
    "        for param in model.parameters():\n",
    "            param.requires_grad = False"
   ]
  },
  {
   "cell_type": "code",
   "execution_count": 145,
   "metadata": {},
   "outputs": [
    {
     "name": "stdout",
     "output_type": "stream",
     "text": [
      "ResNet(\n",
      "  (conv1): Conv2d(3, 64, kernel_size=(7, 7), stride=(2, 2), padding=(3, 3), bias=False)\n",
      "  (bn1): BatchNorm2d(64, eps=1e-05, momentum=0.1, affine=True, track_running_stats=True)\n",
      "  (relu): ReLU(inplace)\n",
      "  (maxpool): MaxPool2d(kernel_size=3, stride=2, padding=1, dilation=1, ceil_mode=False)\n",
      "  (layer1): Sequential(\n",
      "    (0): BasicBlock(\n",
      "      (conv1): Conv2d(64, 64, kernel_size=(3, 3), stride=(1, 1), padding=(1, 1), bias=False)\n",
      "      (bn1): BatchNorm2d(64, eps=1e-05, momentum=0.1, affine=True, track_running_stats=True)\n",
      "      (relu): ReLU(inplace)\n",
      "      (conv2): Conv2d(64, 64, kernel_size=(3, 3), stride=(1, 1), padding=(1, 1), bias=False)\n",
      "      (bn2): BatchNorm2d(64, eps=1e-05, momentum=0.1, affine=True, track_running_stats=True)\n",
      "    )\n",
      "    (1): BasicBlock(\n",
      "      (conv1): Conv2d(64, 64, kernel_size=(3, 3), stride=(1, 1), padding=(1, 1), bias=False)\n",
      "      (bn1): BatchNorm2d(64, eps=1e-05, momentum=0.1, affine=True, track_running_stats=True)\n",
      "      (relu): ReLU(inplace)\n",
      "      (conv2): Conv2d(64, 64, kernel_size=(3, 3), stride=(1, 1), padding=(1, 1), bias=False)\n",
      "      (bn2): BatchNorm2d(64, eps=1e-05, momentum=0.1, affine=True, track_running_stats=True)\n",
      "    )\n",
      "  )\n",
      "  (layer2): Sequential(\n",
      "    (0): BasicBlock(\n",
      "      (conv1): Conv2d(64, 128, kernel_size=(3, 3), stride=(2, 2), padding=(1, 1), bias=False)\n",
      "      (bn1): BatchNorm2d(128, eps=1e-05, momentum=0.1, affine=True, track_running_stats=True)\n",
      "      (relu): ReLU(inplace)\n",
      "      (conv2): Conv2d(128, 128, kernel_size=(3, 3), stride=(1, 1), padding=(1, 1), bias=False)\n",
      "      (bn2): BatchNorm2d(128, eps=1e-05, momentum=0.1, affine=True, track_running_stats=True)\n",
      "      (downsample): Sequential(\n",
      "        (0): Conv2d(64, 128, kernel_size=(1, 1), stride=(2, 2), bias=False)\n",
      "        (1): BatchNorm2d(128, eps=1e-05, momentum=0.1, affine=True, track_running_stats=True)\n",
      "      )\n",
      "    )\n",
      "    (1): BasicBlock(\n",
      "      (conv1): Conv2d(128, 128, kernel_size=(3, 3), stride=(1, 1), padding=(1, 1), bias=False)\n",
      "      (bn1): BatchNorm2d(128, eps=1e-05, momentum=0.1, affine=True, track_running_stats=True)\n",
      "      (relu): ReLU(inplace)\n",
      "      (conv2): Conv2d(128, 128, kernel_size=(3, 3), stride=(1, 1), padding=(1, 1), bias=False)\n",
      "      (bn2): BatchNorm2d(128, eps=1e-05, momentum=0.1, affine=True, track_running_stats=True)\n",
      "    )\n",
      "  )\n",
      "  (layer3): Sequential(\n",
      "    (0): BasicBlock(\n",
      "      (conv1): Conv2d(128, 256, kernel_size=(3, 3), stride=(2, 2), padding=(1, 1), bias=False)\n",
      "      (bn1): BatchNorm2d(256, eps=1e-05, momentum=0.1, affine=True, track_running_stats=True)\n",
      "      (relu): ReLU(inplace)\n",
      "      (conv2): Conv2d(256, 256, kernel_size=(3, 3), stride=(1, 1), padding=(1, 1), bias=False)\n",
      "      (bn2): BatchNorm2d(256, eps=1e-05, momentum=0.1, affine=True, track_running_stats=True)\n",
      "      (downsample): Sequential(\n",
      "        (0): Conv2d(128, 256, kernel_size=(1, 1), stride=(2, 2), bias=False)\n",
      "        (1): BatchNorm2d(256, eps=1e-05, momentum=0.1, affine=True, track_running_stats=True)\n",
      "      )\n",
      "    )\n",
      "    (1): BasicBlock(\n",
      "      (conv1): Conv2d(256, 256, kernel_size=(3, 3), stride=(1, 1), padding=(1, 1), bias=False)\n",
      "      (bn1): BatchNorm2d(256, eps=1e-05, momentum=0.1, affine=True, track_running_stats=True)\n",
      "      (relu): ReLU(inplace)\n",
      "      (conv2): Conv2d(256, 256, kernel_size=(3, 3), stride=(1, 1), padding=(1, 1), bias=False)\n",
      "      (bn2): BatchNorm2d(256, eps=1e-05, momentum=0.1, affine=True, track_running_stats=True)\n",
      "    )\n",
      "  )\n",
      "  (layer4): Sequential(\n",
      "    (0): BasicBlock(\n",
      "      (conv1): Conv2d(256, 512, kernel_size=(3, 3), stride=(2, 2), padding=(1, 1), bias=False)\n",
      "      (bn1): BatchNorm2d(512, eps=1e-05, momentum=0.1, affine=True, track_running_stats=True)\n",
      "      (relu): ReLU(inplace)\n",
      "      (conv2): Conv2d(512, 512, kernel_size=(3, 3), stride=(1, 1), padding=(1, 1), bias=False)\n",
      "      (bn2): BatchNorm2d(512, eps=1e-05, momentum=0.1, affine=True, track_running_stats=True)\n",
      "      (downsample): Sequential(\n",
      "        (0): Conv2d(256, 512, kernel_size=(1, 1), stride=(2, 2), bias=False)\n",
      "        (1): BatchNorm2d(512, eps=1e-05, momentum=0.1, affine=True, track_running_stats=True)\n",
      "      )\n",
      "    )\n",
      "    (1): BasicBlock(\n",
      "      (conv1): Conv2d(512, 512, kernel_size=(3, 3), stride=(1, 1), padding=(1, 1), bias=False)\n",
      "      (bn1): BatchNorm2d(512, eps=1e-05, momentum=0.1, affine=True, track_running_stats=True)\n",
      "      (relu): ReLU(inplace)\n",
      "      (conv2): Conv2d(512, 512, kernel_size=(3, 3), stride=(1, 1), padding=(1, 1), bias=False)\n",
      "      (bn2): BatchNorm2d(512, eps=1e-05, momentum=0.1, affine=True, track_running_stats=True)\n",
      "    )\n",
      "  )\n",
      "  (avgpool): AdaptiveAvgPool2d(output_size=(1, 1))\n",
      "  (fc): Linear(in_features=512, out_features=1000, bias=True)\n",
      ")\n"
     ]
    }
   ],
   "source": [
    "print(resnet18)"
   ]
  }
 ],
 "metadata": {
  "kernelspec": {
   "display_name": "dl-kernel",
   "language": "python",
   "name": "dl-kernel"
  },
  "language_info": {
   "codemirror_mode": {
    "name": "ipython",
    "version": 3
   },
   "file_extension": ".py",
   "mimetype": "text/x-python",
   "name": "python",
   "nbconvert_exporter": "python",
   "pygments_lexer": "ipython3",
   "version": "3.7.2"
  }
 },
 "nbformat": 4,
 "nbformat_minor": 2
}
