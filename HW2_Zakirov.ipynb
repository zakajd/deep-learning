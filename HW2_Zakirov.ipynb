{
 "cells": [
  {
   "cell_type": "code",
   "execution_count": 1,
   "metadata": {},
   "outputs": [],
   "source": [
    "def make_submission(X_test, net, fname=\"my_submission.csv\"):\n",
    "    with open(fname,'w') as fout:\n",
    "        fout.write('Id,Category')\n",
    "        for i in range(X_test.shape[0]):\n",
    "            y_h = net.forward(X_test[i])\n",
    "            y = np.argmax(y_h)\n",
    "            fout.write(\"\\n{},{}\".format(i, int(y)))"
   ]
  },
  {
   "cell_type": "code",
   "execution_count": 2,
   "metadata": {},
   "outputs": [],
   "source": [
    "# внимание, тут Y_test в обычном формате(не onehot)\n",
    "def compute_acc(X_test, Y_test, net):\n",
    "    acc = 0.0\n",
    "    for i in range(X_test.shape[0]):\n",
    "        y_h = net.forward(X_test[i])\n",
    "        y = np.argmax(y_h)\n",
    "        if(y == Y_test[i]):\n",
    "            acc += 1.0\n",
    "    return acc / Y_test.shape[0]"
   ]
  },
  {
   "cell_type": "markdown",
   "metadata": {},
   "source": [
    "## Подготовка данных"
   ]
  },
  {
   "cell_type": "code",
   "execution_count": 3,
   "metadata": {},
   "outputs": [],
   "source": [
    "import numpy as np\n",
    "import matplotlib.pyplot as plt\n",
    "import pickle\n",
    "%matplotlib inline"
   ]
  },
  {
   "cell_type": "code",
   "execution_count": 4,
   "metadata": {},
   "outputs": [
    {
     "data": {
      "image/png": "[encoded data removed]",
      "text/plain": [
       "<Figure size 288x288 with 9 Axes>"
      ]
     },
     "metadata": {
      "needs_background": "light"
     },
     "output_type": "display_data"
    }
   ],
   "source": [
    "# класс one-hot encoder'а для MNIST\n",
    "\n",
    "class OneHotEncoder:\n",
    "    def __init__(self):\n",
    "        self.transform_mapping = np.zeros((10,10))\n",
    "        for i in range(self.transform_mapping.shape[0]):\n",
    "            self.transform_mapping[i][i] = 1.0\n",
    "        #np.identity(n, dtype=None)[source]\n",
    "    def transform(self, y):\n",
    "        return self.transform_mapping[int(y)]\n",
    "\n",
    "train_data = None\n",
    "test_data = None\n",
    "\n",
    "encoder = OneHotEncoder()\n",
    "with open('data_train.pickle','rb') as fin:\n",
    "    train_data = pickle.load(fin)\n",
    "with open('data_test_no_labels.pickle','rb') as fin:\n",
    "    test_data = pickle.load(fin)\n",
    "\n",
    "X_train = train_data['data']\n",
    "Y_train = train_data['target']\n",
    "Y_train_ohe = np.array(list(map(lambda x : encoder.transform(x), Y_train)))\n",
    "\n",
    "# X_valid = test_data['data']\n",
    "\n",
    "# Нормируем признаки [0, 1]\n",
    "# X_train = X_train.astype('float')\n",
    "# X_train = (X_train / 255) # - 0.5\n",
    "\n",
    "#Посмотрим на несколько цифр\n",
    "n=3\n",
    "plt.figure(figsize=[4,4])\n",
    "for i in range(n*n):\n",
    "    plt.subplot(n,n,i+1)\n",
    "    i = np.random.randint(0, len(X_train))\n",
    "    plt.title(\"Label: %i\"%Y_train[i])\n",
    "    I = X_train[i].reshape((28, 28))\n",
    "    plt.axis('off')\n",
    "    plt.imshow(I, cmap='gray')"
   ]
  },
  {
   "cell_type": "code",
   "execution_count": 5,
   "metadata": {},
   "outputs": [],
   "source": [
    "# Определение слоев сети\n",
    "class Dense(object):\n",
    "    def __init__(self, in_size, out_size, rlambda=0.01): #\n",
    "        self.weights = np.random.normal(scale=1, size=(out_size, in_size)) * \\\n",
    "                            np.sqrt(2 / (out_size + in_size))\n",
    "        self.bias = np.zeros(out_size)\n",
    "        self.rlambda = rlambda # regularization parameter\n",
    "    \n",
    "    def get_reg_loss(self):\n",
    "        return 0.5 * self.rlambda * (np.linalg.norm(self.weights, ord='fro') ** 2)\n",
    "  \n",
    "    def forward(self, x):\n",
    "        self.x = x  # запоминаем для обратного прохода\n",
    "        return np.dot(self.weights, x) + self.bias\n",
    "    \n",
    "    def backward(self, dz, lr=0.005):\n",
    "        \"\"\"Update weights and biases using backpropagation\"\"\"\n",
    "        \n",
    "        self.dw = np.outer(dz, self.x) \n",
    "        self.db = dz \n",
    "    \n",
    "        self.dx = np.matmul(dz, self.weights)\n",
    "#         self.dx = np.matmul(self.weights.T, dz) # output column vector\n",
    "        if self.rlambda != 0:\n",
    "            self.dw += self.rlambda * self.weights\n",
    "        \n",
    "        #Update weights\n",
    "        self.weights -= lr * self.dw\n",
    "        self.bias -= lr * self.db\n",
    "        # Возвращаем dx для продолжения алгоритма\n",
    "        return self.dx\n",
    "    "
   ]
  },
  {
   "cell_type": "code",
   "execution_count": 6,
   "metadata": {},
   "outputs": [],
   "source": [
    "class Softmax(object): \n",
    "    \"\"\"Vanilla Softmax layer for Neural Network\"\"\"\n",
    "    \n",
    "    def forward(self, x):\n",
    "        \"\"\"\"x is activitation vector from L layer \n",
    "        C used to prevent exponents explosion \"\"\"  \n",
    "#         self.x = x\n",
    "#         C = - np.max(x)\n",
    "#         self.exps = np.exp(x + C)\n",
    "#         self.exps = np.exp(x - np.max(x))\n",
    "        exps = np.exp(x - np.max(x))\n",
    "        self.sm = exps / np.sum(exps)\n",
    "        return self.sm\n",
    "        \n",
    "    \n",
    "    def backward(self, dz):\n",
    "        self.lp = (np.eye(self.sm.shape[0]) - self.sm).T\n",
    "        self.lp2 = self.sm * self.lp\n",
    "        return np.dot(dz,self.lp2) #"
   ]
  },
  {
   "cell_type": "code",
   "execution_count": 7,
   "metadata": {},
   "outputs": [],
   "source": [
    "class CrossEntropy(object):\n",
    "\n",
    "    def forward(self, y_true, y_hat):\n",
    "        self.y_true = y_true\n",
    "        self.y_hat = y_hat\n",
    "        assert (y_true.shape == y_hat.shape), 'Wrond dim for y_hat or y_true'\n",
    "        return -np.sum( y_true * np.log(y_hat + 1e-9))\n",
    "       \n",
    "    def backward(self, dz): #, lr=0.001):\n",
    "        assert((self.y_hat + 1e-8).all() != 0),\"Zero divison\"\n",
    "        return (- self.y_true / (self.y_hat)) * dz"
   ]
  },
  {
   "cell_type": "code",
   "execution_count": 8,
   "metadata": {},
   "outputs": [],
   "source": [
    "class ReLU(object):\n",
    "    def forward(self, x):\n",
    "        self.x = x    \n",
    "        #return max(0, X)\n",
    "        return np.maximum(0, x)\n",
    "    \n",
    "    def backward(self, dz):\n",
    "        dz[self.x < 0] = 0\n",
    "        return dz"
   ]
  },
  {
   "cell_type": "code",
   "execution_count": 9,
   "metadata": {},
   "outputs": [],
   "source": [
    "# Опеределение сети\n",
    "class MnistNet(object):\n",
    "    def __init__(self, rlambda=0.0001):\n",
    "        self.d1 = Dense(784, 200, rlambda) \n",
    "        self.a1 = ReLU()\n",
    "        self.d2 = Dense(200, 30, rlambda)\n",
    "        self.a2 = ReLU()\n",
    "#         self.d3 = Dense(30, 16, rlambda)\n",
    "#         self.a3 = ReLU()\n",
    "        self.d4 = Dense(30, 10, rlambda)\n",
    "#         self.a4 = ReLU()\n",
    "        self.sm = Softmax()\n",
    "    \n",
    "    def forward(self, x):\n",
    "        net = self.d1.forward(x)\n",
    "        net = self.a1.forward(net)\n",
    "        net = self.d2.forward(net)\n",
    "        net = self.a2.forward(net)\n",
    "#         net = self.d3.forward(net)\n",
    "#         net = self.a3.forward(net)\n",
    "        net = self.d4.forward(net)\n",
    "#         net = self.a4.forward(net)\n",
    "        net = self.sm.forward(net)\n",
    "        return net\n",
    "    \n",
    "    def backward(self, dz, lr=0.01):\n",
    "        dz = self.sm.backward(dz)\n",
    "#         dz = self.a4.backward(dz)\n",
    "        dz = self.d4.backward(dz, lr)\n",
    "#         dz = self.a3.backward(dz)\n",
    "#         dz = self.d3.backward(dz, lr)\n",
    "        dz = self.a2.backward(dz)\n",
    "        dz = self.d2.backward(dz, lr)\n",
    "        dz = self.a1.backward(dz)\n",
    "        dz = self.d1.backward(dz, lr)\n",
    "        return dz"
   ]
  },
  {
   "cell_type": "code",
   "execution_count": 10,
   "metadata": {},
   "outputs": [],
   "source": [
    "from sklearn.model_selection import train_test_split\n",
    "import tqdm\n",
    "\n",
    "#Делим на обучающую и тестовую выборки\n",
    "X_train, X_test, Y_train, Y_test = train_test_split(X_train, Y_train, \\\n",
    "                                                    test_size=0.25, stratify=Y_train)\n",
    "\n",
    "# Центрируем и нормируем признаки\n",
    "X_train= X_train.astype('float')\n",
    "mean = np.mean(X_train, axis=0)\n",
    "std = np.std(X_train, axis=0)\n",
    "X_train = (X_train - mean) / (std + 1e-4)\n",
    "X_test = (X_test - mean) / (std + 1e-4)\n",
    "\n",
    "Y_train = np.array(list(map(lambda x : encoder.transform(x), Y_train)))\n",
    "Y_test_ohe = np.array(list(map(lambda x : encoder.transform(x), Y_test)))"
   ]
  },
  {
   "cell_type": "code",
   "execution_count": 11,
   "metadata": {},
   "outputs": [],
   "source": [
    "#Определяем сеть\n",
    "net = MnistNet(rlambda=0.001)\n",
    "loss = CrossEntropy()\n",
    "lr = 0.001\n",
    "epochs = 80"
   ]
  },
  {
   "cell_type": "code",
   "execution_count": null,
   "metadata": {},
   "outputs": [
    {
     "data": {
      "application/vnd.jupyter.widget-view+json": {
       "model_id": "5706f70464c644759ba60c3136d1c093",
       "version_major": 2,
       "version_minor": 0
      },
      "text/plain": [
       "HBox(children=(IntProgress(value=0, max=80), HTML(value='')))"
      ]
     },
     "metadata": {},
     "output_type": "display_data"
    },
    {
     "name": "stdout",
     "output_type": "stream",
     "text": [
      "0 epoch. Train : 0.3047890992877938 . Test : 0.21465641896692825. Accuracy: 0.9461333333333334\n",
      "3 epoch. Train : 0.0646960909088491 . Test : 0.15136453941943212. Accuracy: 0.9651809523809524\n",
      "6 epoch. Train : 0.03239929864060591 . Test : 0.13971456644522243. Accuracy: 0.9663238095238095\n",
      "9 epoch. Train : 0.02430250013497112 . Test : 0.13193171569033404. Accuracy: 0.969447619047619\n",
      "12 epoch. Train : 0.01832489399600645 . Test : 0.12227775782938691. Accuracy: 0.9715809523809524\n",
      "15 epoch. Train : 0.015097803965232127 . Test : 0.11585721478975645. Accuracy: 0.9740190476190477\n",
      "18 epoch. Train : 0.020401667043969805 . Test : 0.11815726470952248. Accuracy: 0.9720380952380953\n",
      "21 epoch. Train : 0.02407166148198083 . Test : 0.12909089212206742. Accuracy: 0.9721142857142857\n",
      "24 epoch. Train : 0.01827680519412666 . Test : 0.11434171340809685. Accuracy: 0.9740190476190477\n"
     ]
    }
   ],
   "source": [
    "#Процедура обучения\n",
    "L_train = []\n",
    "L_test = []\n",
    "acc = []\n",
    "for iter in tqdm.tqdm_notebook(range(epochs)):\n",
    "    lr = 1 / (iter ** 0.6 + 500)\n",
    "    L_acc = 0.\n",
    "    L_test_acc = 0.\n",
    "    \n",
    "    # Shuffle data\n",
    "    sh_ind = list(range(X_train.shape[0]))\n",
    "    np.random.shuffle(sh_ind)\n",
    "    \n",
    "    for ind in sh_ind:\n",
    "        x = X_train[ind]\n",
    "        y = Y_train[ind] \n",
    "        y_hat = net.forward(x)\n",
    "        L = loss.forward(y, y_hat) # + net.get_reg_loss()\n",
    "        L_acc += L # sum loss for all training exaples\n",
    "        dz = loss.backward(1)\n",
    "        dz = net.backward(dz, lr)\n",
    "    \n",
    "    L_acc /= Y_train.shape[0] # X_train.shape[0] ?\n",
    "    L_train.append(L_acc)\n",
    "    \n",
    "    for i in range(X_test.shape[0]):\n",
    "        x = X_test[i]\n",
    "        y = Y_test_ohe[i] #ohe \n",
    "        y_h = net.forward(x)\n",
    "        L = loss.forward(y, y_h) # + net.get_reg_loss()\n",
    "        L_test_acc += L\n",
    "    L_test_acc /= Y_test.shape[0]\n",
    "    L_test.append(L_test_acc)\n",
    "#     Y = np.array(list(map(lambda x : np.argmax(x), Y_train))) # get not ohe\n",
    "    acc.append(compute_acc(X_test, Y_test, net))\n",
    "    if iter % 15 == 0:\n",
    "        print(f\"{iter} epoch. Train : {L_acc} . Test : {L_test_acc}. Accuracy: {acc[-1]}\")\n",
    "  \n"
   ]
  },
  {
   "cell_type": "code",
   "execution_count": 14,
   "metadata": {},
   "outputs": [
    {
     "data": {
      "text/plain": [
       "<matplotlib.legend.Legend at 0x7fbdd65c1400>"
      ]
     },
     "execution_count": 14,
     "metadata": {},
     "output_type": "execute_result"
    },
    {
     "data": {
      "image/png": "[encoded data removed]",
      "text/plain": [
       "<Figure size 432x288 with 1 Axes>"
      ]
     },
     "metadata": {
      "needs_background": "light"
     },
     "output_type": "display_data"
    }
   ],
   "source": [
    "# Здесь необходимо отрисовать графики CrossEntropyLoss для обучающей и валидационной выборок\n",
    "plt.plot(L_train, label='train')\n",
    "plt.plot(L_test, label='test')\n",
    "plt.legend()"
   ]
  },
  {
   "cell_type": "code",
   "execution_count": 15,
   "metadata": {},
   "outputs": [
    {
     "data": {
      "text/plain": [
       "[<matplotlib.lines.Line2D at 0x7fbdd64a4198>]"
      ]
     },
     "execution_count": 15,
     "metadata": {},
     "output_type": "execute_result"
    },
    {
     "data": {
      "image/png": "[encoded data removed]",
      "text/plain": [
       "<Figure size 432x288 with 1 Axes>"
      ]
     },
     "metadata": {
      "needs_background": "light"
     },
     "output_type": "display_data"
    }
   ],
   "source": [
    "plt.plot(acc)"
   ]
  },
  {
   "cell_type": "code",
   "execution_count": null,
   "metadata": {},
   "outputs": [],
   "source": [
    "#Используем всю выборку для обучения\n",
    "X_train = train_data['data']\n",
    "Y_train = train_data['target']\n",
    "\n",
    "# X_train = X_train / 255\n",
    "\n",
    "X_train= X_train.astype('float')\n",
    "mean = np.mean(X_train, axis=0)\n",
    "std = np.std(X_train, axis=0)\n",
    "X_train = (X_train - mean) / (std + 1e-8)\n",
    "\n",
    "Y_train_ohe = np.array(list(map(lambda x : encoder.transform(x), Y_train)))"
   ]
  },
  {
   "cell_type": "code",
   "execution_count": null,
   "metadata": {},
   "outputs": [],
   "source": [
    "net = MnistNet(rlambda=0.0005)\n",
    "loss = CrossEntropy()\n",
    "lr = 0.001\n",
    "epochs = 130"
   ]
  },
  {
   "cell_type": "code",
   "execution_count": null,
   "metadata": {},
   "outputs": [],
   "source": [
    "sh_ind = list(range(X_train.shape[0]))\n",
    "kaggle_acc = []\n",
    "\n",
    "for iter in tqdm.tqdm_notebook(range(epochs)):\n",
    "    lr = 1 / (iter ** 0.6 + 500)\n",
    "\n",
    "    # Shuffle data\n",
    "    np.random.shuffle(sh_ind)\n",
    "    \n",
    "    for ind in sh_ind:\n",
    "        x = X_train[ind]\n",
    "        y = Y_train_ohe[ind] \n",
    "        y_hat = net.forward(x)\n",
    "        L = loss.forward(y, y_hat) # + net.get_reg_loss()\n",
    "        dz = loss.backward(1)\n",
    "        dz = net.backward(dz, lr)\n",
    "    kaggle_acc.append(compute_acc(X_train, Y_train, net))\n",
    "    if iter % 10 == 0:\n",
    "        print(f\"{iter} epoch. Accuracy: {kaggle_acc[-1]}\")\n",
    "  \n"
   ]
  },
  {
   "cell_type": "code",
   "execution_count": null,
   "metadata": {},
   "outputs": [],
   "source": [
    "X_valid = test_data['data']\n",
    "X_valid = (X_valid - mean) / (std + 1e-8)\n",
    "make_submission(X_valid, net, fname='submission1.csv')"
   ]
  },
  {
   "cell_type": "code",
   "execution_count": 16,
   "metadata": {},
   "outputs": [],
   "source": [
    "# формируем сабмишшен и заливаем его на kaggle\n",
    "make_submission(X_valid, net)"
   ]
  },
  {
   "cell_type": "code",
   "execution_count": null,
   "metadata": {},
   "outputs": [],
   "source": []
  }
 ],
 "metadata": {
  "kernelspec": {
   "display_name": "Python 3",
   "language": "python",
   "name": "python3"
  },
  "language_info": {
   "codemirror_mode": {
    "name": "ipython",
    "version": 3
   },
   "file_extension": ".py",
   "mimetype": "text/x-python",
   "name": "python",
   "nbconvert_exporter": "python",
   "pygments_lexer": "ipython3",
   "version": "3.7.2"
  }
 },
 "nbformat": 4,
 "nbformat_minor": 2
}
